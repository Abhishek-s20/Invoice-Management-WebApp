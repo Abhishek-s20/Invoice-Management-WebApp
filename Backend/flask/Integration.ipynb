{
 "cells": [
  {
   "cell_type": "code",
   "execution_count": 7,
   "id": "079d0dd8",
   "metadata": {},
   "outputs": [
    {
     "name": "stdout",
     "output_type": "stream",
     "text": [
      " * Serving Flask app \"__main__\" (lazy loading)\n",
      " * Environment: production\n",
      "\u001b[31m   WARNING: This is a development server. Do not use it in a production deployment.\u001b[0m\n",
      "\u001b[2m   Use a production WSGI server instead.\u001b[0m\n",
      " * Debug mode: off\n"
     ]
    },
    {
     "name": "stderr",
     "output_type": "stream",
     "text": [
      " * Running on http://127.0.0.1:5000/ (Press CTRL+C to quit)\n",
      "127.0.0.1 - - [19/Apr/2022 11:05:57] \"OPTIONS /predict HTTP/1.1\" 200 -\n",
      "C:\\Users\\abhis\\anaconda3\\lib\\site-packages\\xgboost\\data.py:262: FutureWarning: pandas.Int64Index is deprecated and will be removed from pandas in a future version. Use pandas.Index with the appropriate dtype instead.\n",
      "  elif isinstance(data.columns, (pd.Int64Index, pd.RangeIndex)):\n",
      "127.0.0.1 - - [19/Apr/2022 11:05:57] \"POST /predict HTTP/1.1\" 200 -\n"
     ]
    },
    {
     "name": "stdout",
     "output_type": "stream",
     "text": [
      "   sl_no business_code cust_number   name_customer  clear_date buisness_year  \\\n",
      "0      5          U001   200769623  PIO associates  2019-11-25    2019-01-01   \n",
      "\n",
      "       doc_id posting_date due_in_date converted_usd baseline_create_date  \\\n",
      "0  1930147974   2019-11-13  2019-11-28      33133.29           2019-11-13   \n",
      "\n",
      "  cust_payment_terms  \n",
      "0               NAH4  \n"
     ]
    },
    {
     "name": "stderr",
     "output_type": "stream",
     "text": [
      "127.0.0.1 - - [19/Apr/2022 11:06:46] \"OPTIONS /predict HTTP/1.1\" 200 -\n",
      "C:\\Users\\abhis\\anaconda3\\lib\\site-packages\\xgboost\\data.py:262: FutureWarning: pandas.Int64Index is deprecated and will be removed from pandas in a future version. Use pandas.Index with the appropriate dtype instead.\n",
      "  elif isinstance(data.columns, (pd.Int64Index, pd.RangeIndex)):\n",
      "127.0.0.1 - - [19/Apr/2022 11:06:47] \"POST /predict HTTP/1.1\" 200 -\n"
     ]
    },
    {
     "name": "stdout",
     "output_type": "stream",
     "text": [
      "   sl_no business_code cust_number   name_customer  clear_date buisness_year  \\\n",
      "0      5          U001   200769623  PIO associates  2019-11-25    2019-01-01   \n",
      "\n",
      "       doc_id posting_date due_in_date converted_usd baseline_create_date  \\\n",
      "0  1930147974   2019-11-13  2019-11-28      33133.29           2019-11-13   \n",
      "\n",
      "  cust_payment_terms  \n",
      "0               NAH4  \n"
     ]
    },
    {
     "name": "stderr",
     "output_type": "stream",
     "text": [
      "127.0.0.1 - - [19/Apr/2022 11:10:14] \"OPTIONS /predict HTTP/1.1\" 200 -\n",
      "C:\\Users\\abhis\\anaconda3\\lib\\site-packages\\xgboost\\data.py:262: FutureWarning: pandas.Int64Index is deprecated and will be removed from pandas in a future version. Use pandas.Index with the appropriate dtype instead.\n",
      "  elif isinstance(data.columns, (pd.Int64Index, pd.RangeIndex)):\n",
      "127.0.0.1 - - [19/Apr/2022 11:10:15] \"POST /predict HTTP/1.1\" 200 -\n"
     ]
    },
    {
     "name": "stdout",
     "output_type": "stream",
     "text": [
      "   sl_no business_code cust_number   name_customer  clear_date buisness_year  \\\n",
      "0      2          U001   200980828     SYS systems  2019-08-08    2019-01-01   \n",
      "1      5          U001   200769623  PIO associates  2019-11-25    2019-01-01   \n",
      "\n",
      "       doc_id posting_date due_in_date converted_usd baseline_create_date  \\\n",
      "0  1929646410   2019-07-22  2019-08-11       79656.6           2019-07-22   \n",
      "1  1930147974   2019-11-13  2019-11-28      33133.29           2019-11-13   \n",
      "\n",
      "  cust_payment_terms  \n",
      "0               NAH4  \n",
      "1               NAH4  \n"
     ]
    },
    {
     "name": "stderr",
     "output_type": "stream",
     "text": [
      "127.0.0.1 - - [19/Apr/2022 11:13:14] \"OPTIONS /predict HTTP/1.1\" 200 -\n",
      "C:\\Users\\abhis\\anaconda3\\lib\\site-packages\\xgboost\\data.py:262: FutureWarning: pandas.Int64Index is deprecated and will be removed from pandas in a future version. Use pandas.Index with the appropriate dtype instead.\n",
      "  elif isinstance(data.columns, (pd.Int64Index, pd.RangeIndex)):\n",
      "127.0.0.1 - - [19/Apr/2022 11:13:14] \"POST /predict HTTP/1.1\" 200 -\n"
     ]
    },
    {
     "name": "stdout",
     "output_type": "stream",
     "text": [
      "   sl_no business_code cust_number   name_customer  clear_date buisness_year  \\\n",
      "0      2          U001   200980828     SYS systems  2019-08-08    2019-01-01   \n",
      "1      3          U001   200792734       SUPERB us  2019-12-30    2019-01-01   \n",
      "2      5          U001   200769623  PIO associates  2019-11-25    2019-01-01   \n",
      "\n",
      "       doc_id posting_date due_in_date converted_usd baseline_create_date  \\\n",
      "0  1929646410   2019-07-22  2019-08-11       79656.6           2019-07-22   \n",
      "1  1929873765   2019-09-14  2019-09-29       2253.86           2019-09-14   \n",
      "2  1930147974   2019-11-13  2019-11-28      33133.29           2019-11-13   \n",
      "\n",
      "  cust_payment_terms  \n",
      "0               NAH4  \n",
      "1               NAH4  \n",
      "2               NAH4  \n"
     ]
    },
    {
     "name": "stderr",
     "output_type": "stream",
     "text": [
      "127.0.0.1 - - [19/Apr/2022 11:13:22] \"OPTIONS /predict HTTP/1.1\" 200 -\n",
      "C:\\Users\\abhis\\anaconda3\\lib\\site-packages\\xgboost\\data.py:262: FutureWarning: pandas.Int64Index is deprecated and will be removed from pandas in a future version. Use pandas.Index with the appropriate dtype instead.\n",
      "  elif isinstance(data.columns, (pd.Int64Index, pd.RangeIndex)):\n",
      "127.0.0.1 - - [19/Apr/2022 11:13:22] \"POST /predict HTTP/1.1\" 200 -\n"
     ]
    },
    {
     "name": "stdout",
     "output_type": "stream",
     "text": [
      "   sl_no business_code cust_number   name_customer  clear_date buisness_year  \\\n",
      "0      1          U001   200769623  PIO associates  2020-02-11    2020-01-01   \n",
      "1      2          U001   200980828     SYS systems  2019-08-08    2019-01-01   \n",
      "2      3          U001   200792734       SUPERB us  2019-12-30    2019-01-01   \n",
      "3      5          U001   200769623  PIO associates  2019-11-25    2019-01-01   \n",
      "\n",
      "       doc_id posting_date due_in_date converted_usd baseline_create_date  \\\n",
      "0  1930438491   2020-01-26  2020-02-10      54273.28           2020-01-26   \n",
      "1  1929646410   2019-07-22  2019-08-11       79656.6           2019-07-22   \n",
      "2  1929873765   2019-09-14  2019-09-29       2253.86           2019-09-14   \n",
      "3  1930147974   2019-11-13  2019-11-28      33133.29           2019-11-13   \n",
      "\n",
      "  cust_payment_terms  \n",
      "0               NAH4  \n",
      "1               NAH4  \n",
      "2               NAH4  \n",
      "3               NAH4  \n"
     ]
    },
    {
     "name": "stderr",
     "output_type": "stream",
     "text": [
      "127.0.0.1 - - [19/Apr/2022 11:15:26] \"OPTIONS /predict HTTP/1.1\" 200 -\n",
      "[2022-04-19 11:15:26,894] ERROR in app: Exception on /predict [POST]\n",
      "Traceback (most recent call last):\n",
      "  File \"C:\\Users\\abhis\\anaconda3\\lib\\site-packages\\flask\\app.py\", line 2447, in wsgi_app\n",
      "    response = self.full_dispatch_request()\n",
      "  File \"C:\\Users\\abhis\\anaconda3\\lib\\site-packages\\flask\\app.py\", line 1952, in full_dispatch_request\n",
      "    rv = self.handle_user_exception(e)\n",
      "  File \"C:\\Users\\abhis\\anaconda3\\lib\\site-packages\\flask_cors\\extension.py\", line 165, in wrapped_function\n",
      "    return cors_after_request(app.make_response(f(*args, **kwargs)))\n",
      "  File \"C:\\Users\\abhis\\anaconda3\\lib\\site-packages\\flask\\app.py\", line 1821, in handle_user_exception\n",
      "    reraise(exc_type, exc_value, tb)\n",
      "  File \"C:\\Users\\abhis\\anaconda3\\lib\\site-packages\\flask\\_compat.py\", line 39, in reraise\n",
      "    raise value\n",
      "  File \"C:\\Users\\abhis\\anaconda3\\lib\\site-packages\\flask\\app.py\", line 1950, in full_dispatch_request\n",
      "    rv = self.dispatch_request()\n",
      "  File \"C:\\Users\\abhis\\anaconda3\\lib\\site-packages\\flask\\app.py\", line 1936, in dispatch_request\n",
      "    return self.view_functions[rule.endpoint](**req.view_args)\n",
      "  File \"C:\\Users\\abhis\\AppData\\Local\\Temp/ipykernel_17248/2318787494.py\", line 118, in home\n",
      "    data['doc_id'] = data['doc_id'].astype(int)\n",
      "  File \"C:\\Users\\abhis\\anaconda3\\lib\\site-packages\\pandas\\core\\generic.py\", line 5920, in astype\n",
      "    new_data = self._mgr.astype(dtype=dtype, copy=copy, errors=errors)\n",
      "  File \"C:\\Users\\abhis\\anaconda3\\lib\\site-packages\\pandas\\core\\internals\\managers.py\", line 419, in astype\n",
      "    return self.apply(\"astype\", dtype=dtype, copy=copy, errors=errors)\n",
      "  File \"C:\\Users\\abhis\\anaconda3\\lib\\site-packages\\pandas\\core\\internals\\managers.py\", line 304, in apply\n",
      "    applied = getattr(b, f)(**kwargs)\n",
      "  File \"C:\\Users\\abhis\\anaconda3\\lib\\site-packages\\pandas\\core\\internals\\blocks.py\", line 580, in astype\n",
      "    new_values = astype_array_safe(values, dtype, copy=copy, errors=errors)\n",
      "  File \"C:\\Users\\abhis\\anaconda3\\lib\\site-packages\\pandas\\core\\dtypes\\cast.py\", line 1292, in astype_array_safe\n",
      "    new_values = astype_array(values, dtype, copy=copy)\n",
      "  File \"C:\\Users\\abhis\\anaconda3\\lib\\site-packages\\pandas\\core\\dtypes\\cast.py\", line 1237, in astype_array\n",
      "    values = astype_nansafe(values, dtype, copy=copy)\n",
      "  File \"C:\\Users\\abhis\\anaconda3\\lib\\site-packages\\pandas\\core\\dtypes\\cast.py\", line 1154, in astype_nansafe\n",
      "    return lib.astype_intsafe(arr, dtype)\n",
      "  File \"pandas\\_libs\\lib.pyx\", line 668, in pandas._libs.lib.astype_intsafe\n",
      "OverflowError: Python int too large to convert to C long\n",
      "127.0.0.1 - - [19/Apr/2022 11:15:26] \"POST /predict HTTP/1.1\" 500 -\n",
      "127.0.0.1 - - [19/Apr/2022 11:15:38] \"OPTIONS /predict HTTP/1.1\" 200 -\n",
      "[2022-04-19 11:15:38,780] ERROR in app: Exception on /predict [POST]\n",
      "Traceback (most recent call last):\n",
      "  File \"C:\\Users\\abhis\\anaconda3\\lib\\site-packages\\flask\\app.py\", line 2447, in wsgi_app\n",
      "    response = self.full_dispatch_request()\n",
      "  File \"C:\\Users\\abhis\\anaconda3\\lib\\site-packages\\flask\\app.py\", line 1952, in full_dispatch_request\n",
      "    rv = self.handle_user_exception(e)\n",
      "  File \"C:\\Users\\abhis\\anaconda3\\lib\\site-packages\\flask_cors\\extension.py\", line 165, in wrapped_function\n",
      "    return cors_after_request(app.make_response(f(*args, **kwargs)))\n",
      "  File \"C:\\Users\\abhis\\anaconda3\\lib\\site-packages\\flask\\app.py\", line 1821, in handle_user_exception\n",
      "    reraise(exc_type, exc_value, tb)\n",
      "  File \"C:\\Users\\abhis\\anaconda3\\lib\\site-packages\\flask\\_compat.py\", line 39, in reraise\n",
      "    raise value\n",
      "  File \"C:\\Users\\abhis\\anaconda3\\lib\\site-packages\\flask\\app.py\", line 1950, in full_dispatch_request\n",
      "    rv = self.dispatch_request()\n",
      "  File \"C:\\Users\\abhis\\anaconda3\\lib\\site-packages\\flask\\app.py\", line 1936, in dispatch_request\n",
      "    return self.view_functions[rule.endpoint](**req.view_args)\n",
      "  File \"C:\\Users\\abhis\\AppData\\Local\\Temp/ipykernel_17248/2318787494.py\", line 118, in home\n",
      "    data['doc_id'] = data['doc_id'].astype(int)\n",
      "  File \"C:\\Users\\abhis\\anaconda3\\lib\\site-packages\\pandas\\core\\generic.py\", line 5920, in astype\n",
      "    new_data = self._mgr.astype(dtype=dtype, copy=copy, errors=errors)\n",
      "  File \"C:\\Users\\abhis\\anaconda3\\lib\\site-packages\\pandas\\core\\internals\\managers.py\", line 419, in astype\n",
      "    return self.apply(\"astype\", dtype=dtype, copy=copy, errors=errors)\n",
      "  File \"C:\\Users\\abhis\\anaconda3\\lib\\site-packages\\pandas\\core\\internals\\managers.py\", line 304, in apply\n",
      "    applied = getattr(b, f)(**kwargs)\n",
      "  File \"C:\\Users\\abhis\\anaconda3\\lib\\site-packages\\pandas\\core\\internals\\blocks.py\", line 580, in astype\n",
      "    new_values = astype_array_safe(values, dtype, copy=copy, errors=errors)\n",
      "  File \"C:\\Users\\abhis\\anaconda3\\lib\\site-packages\\pandas\\core\\dtypes\\cast.py\", line 1292, in astype_array_safe\n",
      "    new_values = astype_array(values, dtype, copy=copy)\n",
      "  File \"C:\\Users\\abhis\\anaconda3\\lib\\site-packages\\pandas\\core\\dtypes\\cast.py\", line 1237, in astype_array\n",
      "    values = astype_nansafe(values, dtype, copy=copy)\n",
      "  File \"C:\\Users\\abhis\\anaconda3\\lib\\site-packages\\pandas\\core\\dtypes\\cast.py\", line 1154, in astype_nansafe\n",
      "    return lib.astype_intsafe(arr, dtype)\n",
      "  File \"pandas\\_libs\\lib.pyx\", line 668, in pandas._libs.lib.astype_intsafe\n",
      "OverflowError: Python int too large to convert to C long\n",
      "127.0.0.1 - - [19/Apr/2022 11:15:38] \"POST /predict HTTP/1.1\" 500 -\n",
      "127.0.0.1 - - [19/Apr/2022 11:15:50] \"OPTIONS /predict HTTP/1.1\" 200 -\n",
      "C:\\Users\\abhis\\anaconda3\\lib\\site-packages\\xgboost\\data.py:262: FutureWarning: pandas.Int64Index is deprecated and will be removed from pandas in a future version. Use pandas.Index with the appropriate dtype instead.\n",
      "  elif isinstance(data.columns, (pd.Int64Index, pd.RangeIndex)):\n",
      "127.0.0.1 - - [19/Apr/2022 11:15:50] \"POST /predict HTTP/1.1\" 200 -\n"
     ]
    },
    {
     "name": "stdout",
     "output_type": "stream",
     "text": [
      "   sl_no business_code cust_number   name_customer  clear_date buisness_year  \\\n",
      "0      1          U001   200769623  PIO associates  2020-02-11    2020-01-01   \n",
      "\n",
      "       doc_id posting_date due_in_date converted_usd baseline_create_date  \\\n",
      "0  1930438491   2020-01-26  2020-02-10      54273.28           2020-01-26   \n",
      "\n",
      "  cust_payment_terms  \n",
      "0               NAH4  \n"
     ]
    }
   ],
   "source": [
    "from flask import Flask, redirect, url_for, render_template, request,jsonify, make_response\n",
    "import New_Bucket\n",
    "import pandas as pd\n",
    "from flask_cors import CORS\n",
    "from sklearn.preprocessing import LabelEncoder\n",
    "import numpy as np\n",
    "\n",
    "data = pd.DataFrame()\n",
    "app = Flask(__name__)\n",
    "CORS(app)\n",
    "\n",
    "class EncoderExt(object):\n",
    "    def __init__(self):\n",
    "        self.label_encoder = LabelEncoder()\n",
    "    def fit(self, data_list):\n",
    "        self.label_encoder = self.label_encoder.fit(list(data_list) + ['Unknown'])\n",
    "        self.classes_ = self.label_encoder.classes_\n",
    "        return self\n",
    "    def transform(self, data_list):\n",
    "        new_data_list = list(data_list)\n",
    "        for unique_item in np.unique(data_list):\n",
    "            if unique_item not in self.label_encoder.classes_:\n",
    "                new_data_list = ['Unknown' if x==unique_item else x for x in new_data_list]\n",
    "        return self.label_encoder.transform(new_data_list)\n",
    "    \n",
    "def predict(data):\n",
    "    \n",
    "    print(data)\n",
    "    # Clear Date\n",
    "    data['clear_date'] = pd.to_datetime(data['clear_date'], format = '%Y-%m-%d')\n",
    "    # Posting Date\n",
    "    data['posting_date'] = pd.to_datetime(data['posting_date'], format = '%Y-%m-%d')\n",
    "    # Due in Date\n",
    "    data['due_in_date'] = pd.to_datetime(data['due_in_date'], format = '%Y-%m-%d')\n",
    "    # Baseline Create Date\n",
    "    data['baseline_create_date'] = pd.to_datetime(data['baseline_create_date'], format = '%Y-%m-%d')\n",
    "    data['converted_usd'] = pd.to_numeric(data['converted_usd'])\n",
    "     # buisness_year\n",
    "    data['buisness_year'] = pd.to_datetime(data['buisness_year'], format = '%Y-%m-%d')\n",
    "    data['buisness_year'] = data['buisness_year'].dt.year\n",
    "    \n",
    "    from sklearn.preprocessing import LabelEncoder\n",
    "    business_codern = LabelEncoder()\n",
    "    business_codern.fit(data['business_code'])\n",
    "    data['business_code_enc'] = business_codern.transform(data['business_code'])\n",
    "    data['cust_number'] = data['cust_number'].replace('CCCA02',\"1\").replace(['CCU001','CCU013','CCU002'],\"2\").replace(['CC3411','CC6000'],\"3\").astype(int)\n",
    "    data['day_of_cleardate'] = data['clear_date'].dt.day\n",
    "    data['month_of_cleardate'] = data['clear_date'].dt.month\n",
    "    data['year_of_cleardate'] = data['clear_date'].dt.year\n",
    "\n",
    "    data['day_of_postingdate'] = data['posting_date'].dt.day\n",
    "    data['month_of_postingdate'] = data['posting_date'].dt.month\n",
    "    data['year_of_postingdate'] = data['posting_date'].dt.year\n",
    "\n",
    "    data['day_of_due'] = data['due_in_date'].dt.day\n",
    "    data['month_of_due'] = data['due_in_date'].dt.month\n",
    "    data['year_of_due'] = data['due_in_date'].dt.year\n",
    "\n",
    "    data['day_of_createdate'] = data['baseline_create_date'].dt.day\n",
    "    data['month_of_createdate'] = data['baseline_create_date'].dt.month\n",
    "    data['year_of_createdate'] = data['baseline_create_date'].dt.year\n",
    "    label_encoder = EncoderExt()\n",
    "    label_encoder1 = EncoderExt()\n",
    "    label_encoder1.fit(data['cust_payment_terms'])\n",
    "    label_encoder1.fit(data['business_code'])\n",
    "    label_encoder.fit(data['name_customer'])\n",
    "    data['cust_payment_terms_enc']=label_encoder1.transform(data['cust_payment_terms'])\n",
    "    data['business_code_enc']=label_encoder1.transform(data['business_code'])\n",
    "    data['name_customer_enc']=label_encoder.transform(data['name_customer'])\n",
    "    data.drop(['business_code',\"baseline_create_date\",\"due_in_date\",\"posting_date\",\"name_customer\",\"clear_date\",\"cust_payment_terms\"],axis=1,inplace=True)\n",
    "    data.drop(['day_of_cleardate',\"month_of_cleardate\",\"year_of_cleardate\"],axis=1,inplace=True)\n",
    "    data2=data[['cust_number', 'buisness_year', 'doc_id', 'converted_usd',\n",
    "           'business_code_enc', 'name_customer_enc', 'cust_payment_terms_enc',\n",
    "           'day_of_postingdate', 'month_of_postingdate', 'year_of_postingdate',\n",
    "           'day_of_createdate', 'month_of_createdate', 'year_of_createdate',\n",
    "           'day_of_due', 'month_of_due', 'year_of_due']]\n",
    "    import pickle\n",
    "    model = pickle.load(open(\"model.sav\", 'rb'))\n",
    "    final_result = model.predict(data2)\n",
    "    final_result = pd.Series(final_result,name='avg_delay')\n",
    "    data2.reset_index(drop=True,inplace=True)\n",
    "    Final = data2.merge(final_result , on = data.sl_no )\n",
    "    Final['avg_delay'] = Final.apply(lambda row: row.avg_delay//(24 * 3600), axis = 1)\n",
    "    bins= [-np.inf, 0, 15, 30, 45, 60, 100]\n",
    "    labels = ['<0','0-15','16-30','31-45','46-60','Greatar than 60']\n",
    "    Final['Aging Bucket'] = pd.cut(Final['avg_delay'], bins=bins, labels=labels, right=False)\n",
    "    Final.drop(['key_0',\"avg_delay\"],axis=1,inplace=True)\n",
    "    Final1=Final[['doc_id','Aging Bucket']].copy()\n",
    "    doc = Final1[\"doc_id\"].tolist()\n",
    "    aging= Final1[\"Aging Bucket\"].tolist()   \n",
    "    a=[]\n",
    "    print(Final1)\n",
    "    for i in range(len(doc)):\n",
    "        a.append({\"doc_id\":doc[i],\"aging_bucket\": str(aging[i])})\n",
    "    \n",
    "\n",
    "    return a\n",
    "\n",
    "\n",
    "\n",
    "@app.route(\"/predict\",methods=[\"POST\", \"GET\"])\n",
    "def home():\n",
    "    if request.method == \"POST\":\n",
    "#         print(request.json)\n",
    "        content = request.get_json()\n",
    "        required_cols = [\"sl_no\", \"business_code\", \"cust_number\", \"name_customer\", \"clear_date\", \"buisness_year\", \"doc_id\", \"posting_date\", \"due_in_date\", \"baseline_create_date\", \"cust_payment_terms\", \"total_open_amount\"]\n",
    "        rows = []\n",
    "        \n",
    "        for row in content:\n",
    "            row_data = []\n",
    "            for key, value in row.items():\n",
    "                if key in required_cols:\n",
    "                    row_data.append(value)\n",
    "            rows.append(row_data)\n",
    "#         print(rows)            \n",
    "        data = pd.DataFrame(rows, columns=[\"sl_no\", \"business_code\", \"cust_number\", \"name_customer\", \"clear_date\", \"buisness_year\", \"doc_id\", \"posting_date\", \"due_in_date\", \"converted_usd\", \"baseline_create_date\", \"cust_payment_terms\"])\n",
    "        data.set_index('sl_no')\n",
    "        \n",
    "        data['doc_id'] = data['doc_id'].astype(int)\n",
    "#         data['converted_usd'] = data['converted_usd'].astype(float)\n",
    "#       print(data.info())\n",
    "#       print(data)\n",
    "#         print(predict(data))   \n",
    "        response = make_response(jsonify(predict(data)),200)\n",
    "        response.headers[\"Access-Control-Allow-Origin\"]=\"*\"\n",
    "        response.headers[\"Content-Type\"] = \"application/json\"\n",
    "        return response\n",
    "   \n",
    "        \n",
    "if __name__ == \"__main__\":\n",
    "    app.run()\n",
    "    \n",
    "\n"
   ]
  },
  {
   "cell_type": "code",
   "execution_count": 10,
   "id": "9b6c0b2a",
   "metadata": {},
   "outputs": [
    {
     "name": "stdout",
     "output_type": "stream",
     "text": [
      " * Serving Flask app \"__main__\" (lazy loading)\n",
      " * Environment: production\n",
      "\u001b[31m   WARNING: This is a development server. Do not use it in a production deployment.\u001b[0m\n",
      "\u001b[2m   Use a production WSGI server instead.\u001b[0m\n",
      " * Debug mode: off\n"
     ]
    },
    {
     "name": "stderr",
     "output_type": "stream",
     "text": [
      " * Running on http://127.0.0.1:5000/ (Press CTRL+C to quit)\n",
      "127.0.0.1 - - [19/Apr/2022 11:19:43] \"OPTIONS /predict HTTP/1.1\" 200 -\n",
      "C:\\Users\\abhis\\anaconda3\\lib\\site-packages\\xgboost\\data.py:262: FutureWarning: pandas.Int64Index is deprecated and will be removed from pandas in a future version. Use pandas.Index with the appropriate dtype instead.\n",
      "  elif isinstance(data.columns, (pd.Int64Index, pd.RangeIndex)):\n",
      "127.0.0.1 - - [19/Apr/2022 11:19:43] \"POST /predict HTTP/1.1\" 200 -\n"
     ]
    },
    {
     "name": "stdout",
     "output_type": "stream",
     "text": [
      "       doc_id Aging Bucket\n",
      "0  1930438491           <0\n"
     ]
    },
    {
     "name": "stderr",
     "output_type": "stream",
     "text": [
      "127.0.0.1 - - [19/Apr/2022 11:31:32] \"OPTIONS /predict HTTP/1.1\" 200 -\n",
      "C:\\Users\\abhis\\anaconda3\\lib\\site-packages\\xgboost\\data.py:262: FutureWarning: pandas.Int64Index is deprecated and will be removed from pandas in a future version. Use pandas.Index with the appropriate dtype instead.\n",
      "  elif isinstance(data.columns, (pd.Int64Index, pd.RangeIndex)):\n",
      "127.0.0.1 - - [19/Apr/2022 11:31:32] \"POST /predict HTTP/1.1\" 200 -\n"
     ]
    },
    {
     "name": "stdout",
     "output_type": "stream",
     "text": [
      "       doc_id Aging Bucket\n",
      "0  1930438491           <0\n"
     ]
    },
    {
     "name": "stderr",
     "output_type": "stream",
     "text": [
      "127.0.0.1 - - [19/Apr/2022 11:33:20] \"OPTIONS /predict HTTP/1.1\" 200 -\n",
      "C:\\Users\\abhis\\anaconda3\\lib\\site-packages\\xgboost\\data.py:262: FutureWarning: pandas.Int64Index is deprecated and will be removed from pandas in a future version. Use pandas.Index with the appropriate dtype instead.\n",
      "  elif isinstance(data.columns, (pd.Int64Index, pd.RangeIndex)):\n",
      "127.0.0.1 - - [19/Apr/2022 11:33:20] \"POST /predict HTTP/1.1\" 200 -\n"
     ]
    },
    {
     "name": "stdout",
     "output_type": "stream",
     "text": [
      "       doc_id Aging Bucket\n",
      "0  1930438491           <0\n"
     ]
    },
    {
     "name": "stderr",
     "output_type": "stream",
     "text": [
      "127.0.0.1 - - [19/Apr/2022 11:33:33] \"OPTIONS /predict HTTP/1.1\" 200 -\n",
      "C:\\Users\\abhis\\anaconda3\\lib\\site-packages\\xgboost\\data.py:262: FutureWarning: pandas.Int64Index is deprecated and will be removed from pandas in a future version. Use pandas.Index with the appropriate dtype instead.\n",
      "  elif isinstance(data.columns, (pd.Int64Index, pd.RangeIndex)):\n",
      "127.0.0.1 - - [19/Apr/2022 11:33:34] \"POST /predict HTTP/1.1\" 200 -\n"
     ]
    },
    {
     "name": "stdout",
     "output_type": "stream",
     "text": [
      "       doc_id Aging Bucket\n",
      "0  1930438491           <0\n"
     ]
    },
    {
     "name": "stderr",
     "output_type": "stream",
     "text": [
      "127.0.0.1 - - [19/Apr/2022 11:33:51] \"OPTIONS /predict HTTP/1.1\" 200 -\n",
      "C:\\Users\\abhis\\anaconda3\\lib\\site-packages\\xgboost\\data.py:262: FutureWarning: pandas.Int64Index is deprecated and will be removed from pandas in a future version. Use pandas.Index with the appropriate dtype instead.\n",
      "  elif isinstance(data.columns, (pd.Int64Index, pd.RangeIndex)):\n",
      "127.0.0.1 - - [19/Apr/2022 11:33:51] \"POST /predict HTTP/1.1\" 200 -\n"
     ]
    },
    {
     "name": "stdout",
     "output_type": "stream",
     "text": [
      "       doc_id Aging Bucket\n",
      "0  1930438491           <0\n"
     ]
    },
    {
     "name": "stderr",
     "output_type": "stream",
     "text": [
      "127.0.0.1 - - [19/Apr/2022 11:40:09] \"OPTIONS /predict HTTP/1.1\" 200 -\n",
      "C:\\Users\\abhis\\anaconda3\\lib\\site-packages\\xgboost\\data.py:262: FutureWarning: pandas.Int64Index is deprecated and will be removed from pandas in a future version. Use pandas.Index with the appropriate dtype instead.\n",
      "  elif isinstance(data.columns, (pd.Int64Index, pd.RangeIndex)):\n",
      "127.0.0.1 - - [19/Apr/2022 11:40:09] \"POST /predict HTTP/1.1\" 200 -\n"
     ]
    },
    {
     "name": "stdout",
     "output_type": "stream",
     "text": [
      "       doc_id Aging Bucket\n",
      "0  1930438491           <0\n"
     ]
    },
    {
     "name": "stderr",
     "output_type": "stream",
     "text": [
      "127.0.0.1 - - [19/Apr/2022 11:40:35] \"OPTIONS /predict HTTP/1.1\" 200 -\n",
      "C:\\Users\\abhis\\anaconda3\\lib\\site-packages\\xgboost\\data.py:262: FutureWarning: pandas.Int64Index is deprecated and will be removed from pandas in a future version. Use pandas.Index with the appropriate dtype instead.\n",
      "  elif isinstance(data.columns, (pd.Int64Index, pd.RangeIndex)):\n",
      "127.0.0.1 - - [19/Apr/2022 11:40:36] \"POST /predict HTTP/1.1\" 200 -\n"
     ]
    },
    {
     "name": "stdout",
     "output_type": "stream",
     "text": [
      "       doc_id Aging Bucket\n",
      "0  1930438491           <0\n"
     ]
    },
    {
     "name": "stderr",
     "output_type": "stream",
     "text": [
      "127.0.0.1 - - [19/Apr/2022 11:41:04] \"OPTIONS /predict HTTP/1.1\" 200 -\n",
      "C:\\Users\\abhis\\anaconda3\\lib\\site-packages\\xgboost\\data.py:262: FutureWarning: pandas.Int64Index is deprecated and will be removed from pandas in a future version. Use pandas.Index with the appropriate dtype instead.\n",
      "  elif isinstance(data.columns, (pd.Int64Index, pd.RangeIndex)):\n",
      "127.0.0.1 - - [19/Apr/2022 11:41:04] \"POST /predict HTTP/1.1\" 200 -\n"
     ]
    },
    {
     "name": "stdout",
     "output_type": "stream",
     "text": [
      "       doc_id Aging Bucket\n",
      "0  1930438491           <0\n"
     ]
    },
    {
     "name": "stderr",
     "output_type": "stream",
     "text": [
      "127.0.0.1 - - [19/Apr/2022 11:46:21] \"OPTIONS /predict HTTP/1.1\" 200 -\n",
      "C:\\Users\\abhis\\anaconda3\\lib\\site-packages\\xgboost\\data.py:262: FutureWarning: pandas.Int64Index is deprecated and will be removed from pandas in a future version. Use pandas.Index with the appropriate dtype instead.\n",
      "  elif isinstance(data.columns, (pd.Int64Index, pd.RangeIndex)):\n",
      "127.0.0.1 - - [19/Apr/2022 11:46:21] \"POST /predict HTTP/1.1\" 200 -\n"
     ]
    },
    {
     "name": "stdout",
     "output_type": "stream",
     "text": [
      "       doc_id Aging Bucket\n",
      "0  1930438491           <0\n"
     ]
    },
    {
     "name": "stderr",
     "output_type": "stream",
     "text": [
      "127.0.0.1 - - [19/Apr/2022 11:47:00] \"OPTIONS /predict HTTP/1.1\" 200 -\n",
      "C:\\Users\\abhis\\anaconda3\\lib\\site-packages\\xgboost\\data.py:262: FutureWarning: pandas.Int64Index is deprecated and will be removed from pandas in a future version. Use pandas.Index with the appropriate dtype instead.\n",
      "  elif isinstance(data.columns, (pd.Int64Index, pd.RangeIndex)):\n",
      "127.0.0.1 - - [19/Apr/2022 11:47:00] \"POST /predict HTTP/1.1\" 200 -\n"
     ]
    },
    {
     "name": "stdout",
     "output_type": "stream",
     "text": [
      "       doc_id Aging Bucket\n",
      "0  1930438491           <0\n"
     ]
    },
    {
     "name": "stderr",
     "output_type": "stream",
     "text": [
      "127.0.0.1 - - [19/Apr/2022 11:47:29] \"OPTIONS /predict HTTP/1.1\" 200 -\n",
      "C:\\Users\\abhis\\anaconda3\\lib\\site-packages\\xgboost\\data.py:262: FutureWarning: pandas.Int64Index is deprecated and will be removed from pandas in a future version. Use pandas.Index with the appropriate dtype instead.\n",
      "  elif isinstance(data.columns, (pd.Int64Index, pd.RangeIndex)):\n",
      "127.0.0.1 - - [19/Apr/2022 11:47:29] \"POST /predict HTTP/1.1\" 200 -\n"
     ]
    },
    {
     "name": "stdout",
     "output_type": "stream",
     "text": [
      "       doc_id Aging Bucket\n",
      "0  1930438491           <0\n"
     ]
    },
    {
     "name": "stderr",
     "output_type": "stream",
     "text": [
      "127.0.0.1 - - [19/Apr/2022 11:47:36] \"OPTIONS /predict HTTP/1.1\" 200 -\n",
      "C:\\Users\\abhis\\anaconda3\\lib\\site-packages\\xgboost\\data.py:262: FutureWarning: pandas.Int64Index is deprecated and will be removed from pandas in a future version. Use pandas.Index with the appropriate dtype instead.\n",
      "  elif isinstance(data.columns, (pd.Int64Index, pd.RangeIndex)):\n",
      "127.0.0.1 - - [19/Apr/2022 11:47:36] \"POST /predict HTTP/1.1\" 200 -\n"
     ]
    },
    {
     "name": "stdout",
     "output_type": "stream",
     "text": [
      "       doc_id Aging Bucket\n",
      "0  1930438491           <0\n"
     ]
    },
    {
     "name": "stderr",
     "output_type": "stream",
     "text": [
      "127.0.0.1 - - [19/Apr/2022 11:53:05] \"OPTIONS /predict HTTP/1.1\" 200 -\n",
      "C:\\Users\\abhis\\anaconda3\\lib\\site-packages\\xgboost\\data.py:262: FutureWarning: pandas.Int64Index is deprecated and will be removed from pandas in a future version. Use pandas.Index with the appropriate dtype instead.\n",
      "  elif isinstance(data.columns, (pd.Int64Index, pd.RangeIndex)):\n",
      "127.0.0.1 - - [19/Apr/2022 11:53:06] \"POST /predict HTTP/1.1\" 200 -\n"
     ]
    },
    {
     "name": "stdout",
     "output_type": "stream",
     "text": [
      "       doc_id Aging Bucket\n",
      "0  1930438491           <0\n"
     ]
    },
    {
     "name": "stderr",
     "output_type": "stream",
     "text": [
      "127.0.0.1 - - [19/Apr/2022 11:55:18] \"OPTIONS /predict HTTP/1.1\" 200 -\n",
      "C:\\Users\\abhis\\anaconda3\\lib\\site-packages\\xgboost\\data.py:262: FutureWarning: pandas.Int64Index is deprecated and will be removed from pandas in a future version. Use pandas.Index with the appropriate dtype instead.\n",
      "  elif isinstance(data.columns, (pd.Int64Index, pd.RangeIndex)):\n",
      "127.0.0.1 - - [19/Apr/2022 11:55:18] \"POST /predict HTTP/1.1\" 200 -\n"
     ]
    },
    {
     "name": "stdout",
     "output_type": "stream",
     "text": [
      "       doc_id Aging Bucket\n",
      "0  1930438491           <0\n"
     ]
    },
    {
     "name": "stderr",
     "output_type": "stream",
     "text": [
      "127.0.0.1 - - [19/Apr/2022 11:56:08] \"OPTIONS /predict HTTP/1.1\" 200 -\n",
      "C:\\Users\\abhis\\anaconda3\\lib\\site-packages\\xgboost\\data.py:262: FutureWarning: pandas.Int64Index is deprecated and will be removed from pandas in a future version. Use pandas.Index with the appropriate dtype instead.\n",
      "  elif isinstance(data.columns, (pd.Int64Index, pd.RangeIndex)):\n",
      "127.0.0.1 - - [19/Apr/2022 11:56:08] \"POST /predict HTTP/1.1\" 200 -\n"
     ]
    },
    {
     "name": "stdout",
     "output_type": "stream",
     "text": [
      "       doc_id Aging Bucket\n",
      "0  1930438491           <0\n"
     ]
    },
    {
     "name": "stderr",
     "output_type": "stream",
     "text": [
      "127.0.0.1 - - [19/Apr/2022 11:56:22] \"OPTIONS /predict HTTP/1.1\" 200 -\n",
      "C:\\Users\\abhis\\anaconda3\\lib\\site-packages\\xgboost\\data.py:262: FutureWarning: pandas.Int64Index is deprecated and will be removed from pandas in a future version. Use pandas.Index with the appropriate dtype instead.\n",
      "  elif isinstance(data.columns, (pd.Int64Index, pd.RangeIndex)):\n",
      "127.0.0.1 - - [19/Apr/2022 11:56:22] \"POST /predict HTTP/1.1\" 200 -\n"
     ]
    },
    {
     "name": "stdout",
     "output_type": "stream",
     "text": [
      "       doc_id Aging Bucket\n",
      "0  1930438491           <0\n"
     ]
    },
    {
     "name": "stderr",
     "output_type": "stream",
     "text": [
      "127.0.0.1 - - [19/Apr/2022 11:56:36] \"OPTIONS /predict HTTP/1.1\" 200 -\n",
      "C:\\Users\\abhis\\anaconda3\\lib\\site-packages\\xgboost\\data.py:262: FutureWarning: pandas.Int64Index is deprecated and will be removed from pandas in a future version. Use pandas.Index with the appropriate dtype instead.\n",
      "  elif isinstance(data.columns, (pd.Int64Index, pd.RangeIndex)):\n",
      "127.0.0.1 - - [19/Apr/2022 11:56:36] \"POST /predict HTTP/1.1\" 200 -\n"
     ]
    },
    {
     "name": "stdout",
     "output_type": "stream",
     "text": [
      "       doc_id Aging Bucket\n",
      "0  1930438491           <0\n"
     ]
    },
    {
     "name": "stderr",
     "output_type": "stream",
     "text": [
      "127.0.0.1 - - [19/Apr/2022 11:57:05] \"OPTIONS /predict HTTP/1.1\" 200 -\n",
      "C:\\Users\\abhis\\anaconda3\\lib\\site-packages\\xgboost\\data.py:262: FutureWarning: pandas.Int64Index is deprecated and will be removed from pandas in a future version. Use pandas.Index with the appropriate dtype instead.\n",
      "  elif isinstance(data.columns, (pd.Int64Index, pd.RangeIndex)):\n",
      "127.0.0.1 - - [19/Apr/2022 11:57:05] \"POST /predict HTTP/1.1\" 200 -\n"
     ]
    },
    {
     "name": "stdout",
     "output_type": "stream",
     "text": [
      "       doc_id Aging Bucket\n",
      "0  1930438491           <0\n"
     ]
    },
    {
     "name": "stderr",
     "output_type": "stream",
     "text": [
      "127.0.0.1 - - [19/Apr/2022 12:02:38] \"OPTIONS /predict HTTP/1.1\" 200 -\n",
      "C:\\Users\\abhis\\anaconda3\\lib\\site-packages\\xgboost\\data.py:262: FutureWarning: pandas.Int64Index is deprecated and will be removed from pandas in a future version. Use pandas.Index with the appropriate dtype instead.\n",
      "  elif isinstance(data.columns, (pd.Int64Index, pd.RangeIndex)):\n",
      "127.0.0.1 - - [19/Apr/2022 12:02:38] \"POST /predict HTTP/1.1\" 200 -\n"
     ]
    },
    {
     "name": "stdout",
     "output_type": "stream",
     "text": [
      "       doc_id Aging Bucket\n",
      "0  1930438491           <0\n"
     ]
    },
    {
     "name": "stderr",
     "output_type": "stream",
     "text": [
      "127.0.0.1 - - [19/Apr/2022 12:05:02] \"OPTIONS /predict HTTP/1.1\" 200 -\n",
      "C:\\Users\\abhis\\anaconda3\\lib\\site-packages\\xgboost\\data.py:262: FutureWarning: pandas.Int64Index is deprecated and will be removed from pandas in a future version. Use pandas.Index with the appropriate dtype instead.\n",
      "  elif isinstance(data.columns, (pd.Int64Index, pd.RangeIndex)):\n",
      "127.0.0.1 - - [19/Apr/2022 12:05:02] \"POST /predict HTTP/1.1\" 200 -\n"
     ]
    },
    {
     "name": "stdout",
     "output_type": "stream",
     "text": [
      "       doc_id Aging Bucket\n",
      "0  1930438491           <0\n"
     ]
    },
    {
     "name": "stderr",
     "output_type": "stream",
     "text": [
      "127.0.0.1 - - [19/Apr/2022 12:05:37] \"OPTIONS /predict HTTP/1.1\" 200 -\n",
      "C:\\Users\\abhis\\anaconda3\\lib\\site-packages\\xgboost\\data.py:262: FutureWarning: pandas.Int64Index is deprecated and will be removed from pandas in a future version. Use pandas.Index with the appropriate dtype instead.\n",
      "  elif isinstance(data.columns, (pd.Int64Index, pd.RangeIndex)):\n",
      "127.0.0.1 - - [19/Apr/2022 12:05:37] \"POST /predict HTTP/1.1\" 200 -\n"
     ]
    },
    {
     "name": "stdout",
     "output_type": "stream",
     "text": [
      "       doc_id Aging Bucket\n",
      "0  1930438491           <0\n"
     ]
    },
    {
     "name": "stderr",
     "output_type": "stream",
     "text": [
      "127.0.0.1 - - [19/Apr/2022 12:52:19] \"OPTIONS /predict HTTP/1.1\" 200 -\n",
      "C:\\Users\\abhis\\anaconda3\\lib\\site-packages\\xgboost\\data.py:262: FutureWarning: pandas.Int64Index is deprecated and will be removed from pandas in a future version. Use pandas.Index with the appropriate dtype instead.\n",
      "  elif isinstance(data.columns, (pd.Int64Index, pd.RangeIndex)):\n",
      "127.0.0.1 - - [19/Apr/2022 12:52:19] \"POST /predict HTTP/1.1\" 200 -\n"
     ]
    },
    {
     "name": "stdout",
     "output_type": "stream",
     "text": [
      "       doc_id Aging Bucket\n",
      "0  1930438491           <0\n"
     ]
    },
    {
     "name": "stderr",
     "output_type": "stream",
     "text": [
      "127.0.0.1 - - [19/Apr/2022 13:06:25] \"OPTIONS /predict HTTP/1.1\" 200 -\n",
      "C:\\Users\\abhis\\anaconda3\\lib\\site-packages\\xgboost\\data.py:262: FutureWarning: pandas.Int64Index is deprecated and will be removed from pandas in a future version. Use pandas.Index with the appropriate dtype instead.\n",
      "  elif isinstance(data.columns, (pd.Int64Index, pd.RangeIndex)):\n",
      "127.0.0.1 - - [19/Apr/2022 13:06:25] \"POST /predict HTTP/1.1\" 200 -\n"
     ]
    },
    {
     "name": "stdout",
     "output_type": "stream",
     "text": [
      "       doc_id Aging Bucket\n",
      "0  1929646410         0-15\n"
     ]
    },
    {
     "name": "stderr",
     "output_type": "stream",
     "text": [
      "127.0.0.1 - - [19/Apr/2022 13:06:57] \"OPTIONS /predict HTTP/1.1\" 200 -\n",
      "C:\\Users\\abhis\\anaconda3\\lib\\site-packages\\xgboost\\data.py:262: FutureWarning: pandas.Int64Index is deprecated and will be removed from pandas in a future version. Use pandas.Index with the appropriate dtype instead.\n",
      "  elif isinstance(data.columns, (pd.Int64Index, pd.RangeIndex)):\n",
      "127.0.0.1 - - [19/Apr/2022 13:06:57] \"POST /predict HTTP/1.1\" 200 -\n"
     ]
    },
    {
     "name": "stdout",
     "output_type": "stream",
     "text": [
      "       doc_id Aging Bucket\n",
      "0  1929646410         0-15\n"
     ]
    },
    {
     "name": "stderr",
     "output_type": "stream",
     "text": [
      "127.0.0.1 - - [19/Apr/2022 13:07:32] \"OPTIONS /predict HTTP/1.1\" 200 -\n",
      "C:\\Users\\abhis\\anaconda3\\lib\\site-packages\\xgboost\\data.py:262: FutureWarning: pandas.Int64Index is deprecated and will be removed from pandas in a future version. Use pandas.Index with the appropriate dtype instead.\n",
      "  elif isinstance(data.columns, (pd.Int64Index, pd.RangeIndex)):\n",
      "127.0.0.1 - - [19/Apr/2022 13:07:33] \"POST /predict HTTP/1.1\" 200 -\n"
     ]
    },
    {
     "name": "stdout",
     "output_type": "stream",
     "text": [
      "       doc_id Aging Bucket\n",
      "0  1929646410         0-15\n"
     ]
    },
    {
     "name": "stderr",
     "output_type": "stream",
     "text": [
      "127.0.0.1 - - [19/Apr/2022 13:09:49] \"OPTIONS /predict HTTP/1.1\" 200 -\n",
      "C:\\Users\\abhis\\anaconda3\\lib\\site-packages\\xgboost\\data.py:262: FutureWarning: pandas.Int64Index is deprecated and will be removed from pandas in a future version. Use pandas.Index with the appropriate dtype instead.\n",
      "  elif isinstance(data.columns, (pd.Int64Index, pd.RangeIndex)):\n",
      "127.0.0.1 - - [19/Apr/2022 13:09:49] \"POST /predict HTTP/1.1\" 200 -\n"
     ]
    },
    {
     "name": "stdout",
     "output_type": "stream",
     "text": [
      "       doc_id Aging Bucket\n",
      "0  1929646410         0-15\n"
     ]
    },
    {
     "name": "stderr",
     "output_type": "stream",
     "text": [
      "127.0.0.1 - - [19/Apr/2022 13:09:56] \"OPTIONS /predict HTTP/1.1\" 200 -\n",
      "C:\\Users\\abhis\\anaconda3\\lib\\site-packages\\xgboost\\data.py:262: FutureWarning: pandas.Int64Index is deprecated and will be removed from pandas in a future version. Use pandas.Index with the appropriate dtype instead.\n",
      "  elif isinstance(data.columns, (pd.Int64Index, pd.RangeIndex)):\n",
      "127.0.0.1 - - [19/Apr/2022 13:09:56] \"POST /predict HTTP/1.1\" 200 -\n"
     ]
    },
    {
     "name": "stdout",
     "output_type": "stream",
     "text": [
      "       doc_id Aging Bucket\n",
      "0  1929873765         0-15\n"
     ]
    },
    {
     "name": "stderr",
     "output_type": "stream",
     "text": [
      "127.0.0.1 - - [19/Apr/2022 13:10:40] \"OPTIONS /predict HTTP/1.1\" 200 -\n",
      "C:\\Users\\abhis\\anaconda3\\lib\\site-packages\\xgboost\\data.py:262: FutureWarning: pandas.Int64Index is deprecated and will be removed from pandas in a future version. Use pandas.Index with the appropriate dtype instead.\n",
      "  elif isinstance(data.columns, (pd.Int64Index, pd.RangeIndex)):\n",
      "127.0.0.1 - - [19/Apr/2022 13:10:40] \"POST /predict HTTP/1.1\" 200 -\n"
     ]
    },
    {
     "name": "stdout",
     "output_type": "stream",
     "text": [
      "       doc_id Aging Bucket\n",
      "0  1929873765         0-15\n"
     ]
    },
    {
     "name": "stderr",
     "output_type": "stream",
     "text": [
      "127.0.0.1 - - [19/Apr/2022 13:10:59] \"OPTIONS /predict HTTP/1.1\" 200 -\n",
      "[2022-04-19 13:10:59,101] ERROR in app: Exception on /predict [POST]\n",
      "Traceback (most recent call last):\n",
      "  File \"C:\\Users\\abhis\\anaconda3\\lib\\site-packages\\flask\\app.py\", line 2447, in wsgi_app\n",
      "    response = self.full_dispatch_request()\n",
      "  File \"C:\\Users\\abhis\\anaconda3\\lib\\site-packages\\flask\\app.py\", line 1952, in full_dispatch_request\n",
      "    rv = self.handle_user_exception(e)\n",
      "  File \"C:\\Users\\abhis\\anaconda3\\lib\\site-packages\\flask_cors\\extension.py\", line 165, in wrapped_function\n",
      "    return cors_after_request(app.make_response(f(*args, **kwargs)))\n",
      "  File \"C:\\Users\\abhis\\anaconda3\\lib\\site-packages\\flask\\app.py\", line 1821, in handle_user_exception\n",
      "    reraise(exc_type, exc_value, tb)\n",
      "  File \"C:\\Users\\abhis\\anaconda3\\lib\\site-packages\\flask\\_compat.py\", line 39, in reraise\n",
      "    raise value\n",
      "  File \"C:\\Users\\abhis\\anaconda3\\lib\\site-packages\\flask\\app.py\", line 1950, in full_dispatch_request\n",
      "    rv = self.dispatch_request()\n",
      "  File \"C:\\Users\\abhis\\anaconda3\\lib\\site-packages\\flask\\app.py\", line 1936, in dispatch_request\n",
      "    return self.view_functions[rule.endpoint](**req.view_args)\n",
      "  File \"C:\\Users\\abhis\\AppData\\Local\\Temp/ipykernel_17248/1562411684.py\", line 119, in home\n",
      "    data['doc_id'] = data['doc_id'].astype(int)\n",
      "  File \"C:\\Users\\abhis\\anaconda3\\lib\\site-packages\\pandas\\core\\generic.py\", line 5920, in astype\n",
      "    new_data = self._mgr.astype(dtype=dtype, copy=copy, errors=errors)\n",
      "  File \"C:\\Users\\abhis\\anaconda3\\lib\\site-packages\\pandas\\core\\internals\\managers.py\", line 419, in astype\n",
      "    return self.apply(\"astype\", dtype=dtype, copy=copy, errors=errors)\n",
      "  File \"C:\\Users\\abhis\\anaconda3\\lib\\site-packages\\pandas\\core\\internals\\managers.py\", line 304, in apply\n",
      "    applied = getattr(b, f)(**kwargs)\n",
      "  File \"C:\\Users\\abhis\\anaconda3\\lib\\site-packages\\pandas\\core\\internals\\blocks.py\", line 580, in astype\n",
      "    new_values = astype_array_safe(values, dtype, copy=copy, errors=errors)\n",
      "  File \"C:\\Users\\abhis\\anaconda3\\lib\\site-packages\\pandas\\core\\dtypes\\cast.py\", line 1292, in astype_array_safe\n",
      "    new_values = astype_array(values, dtype, copy=copy)\n",
      "  File \"C:\\Users\\abhis\\anaconda3\\lib\\site-packages\\pandas\\core\\dtypes\\cast.py\", line 1237, in astype_array\n",
      "    values = astype_nansafe(values, dtype, copy=copy)\n",
      "  File \"C:\\Users\\abhis\\anaconda3\\lib\\site-packages\\pandas\\core\\dtypes\\cast.py\", line 1154, in astype_nansafe\n",
      "    return lib.astype_intsafe(arr, dtype)\n",
      "  File \"pandas\\_libs\\lib.pyx\", line 668, in pandas._libs.lib.astype_intsafe\n",
      "OverflowError: Python int too large to convert to C long\n",
      "127.0.0.1 - - [19/Apr/2022 13:10:59] \"POST /predict HTTP/1.1\" 500 -\n",
      "127.0.0.1 - - [19/Apr/2022 13:11:11] \"OPTIONS /predict HTTP/1.1\" 200 -\n",
      "[2022-04-19 13:11:11,536] ERROR in app: Exception on /predict [POST]\n",
      "Traceback (most recent call last):\n",
      "  File \"C:\\Users\\abhis\\anaconda3\\lib\\site-packages\\flask\\app.py\", line 2447, in wsgi_app\n",
      "    response = self.full_dispatch_request()\n",
      "  File \"C:\\Users\\abhis\\anaconda3\\lib\\site-packages\\flask\\app.py\", line 1952, in full_dispatch_request\n",
      "    rv = self.handle_user_exception(e)\n",
      "  File \"C:\\Users\\abhis\\anaconda3\\lib\\site-packages\\flask_cors\\extension.py\", line 165, in wrapped_function\n",
      "    return cors_after_request(app.make_response(f(*args, **kwargs)))\n",
      "  File \"C:\\Users\\abhis\\anaconda3\\lib\\site-packages\\flask\\app.py\", line 1821, in handle_user_exception\n",
      "    reraise(exc_type, exc_value, tb)\n",
      "  File \"C:\\Users\\abhis\\anaconda3\\lib\\site-packages\\flask\\_compat.py\", line 39, in reraise\n",
      "    raise value\n",
      "  File \"C:\\Users\\abhis\\anaconda3\\lib\\site-packages\\flask\\app.py\", line 1950, in full_dispatch_request\n",
      "    rv = self.dispatch_request()\n",
      "  File \"C:\\Users\\abhis\\anaconda3\\lib\\site-packages\\flask\\app.py\", line 1936, in dispatch_request\n",
      "    return self.view_functions[rule.endpoint](**req.view_args)\n",
      "  File \"C:\\Users\\abhis\\AppData\\Local\\Temp/ipykernel_17248/1562411684.py\", line 119, in home\n",
      "    data['doc_id'] = data['doc_id'].astype(int)\n",
      "  File \"C:\\Users\\abhis\\anaconda3\\lib\\site-packages\\pandas\\core\\generic.py\", line 5920, in astype\n",
      "    new_data = self._mgr.astype(dtype=dtype, copy=copy, errors=errors)\n",
      "  File \"C:\\Users\\abhis\\anaconda3\\lib\\site-packages\\pandas\\core\\internals\\managers.py\", line 419, in astype\n",
      "    return self.apply(\"astype\", dtype=dtype, copy=copy, errors=errors)\n",
      "  File \"C:\\Users\\abhis\\anaconda3\\lib\\site-packages\\pandas\\core\\internals\\managers.py\", line 304, in apply\n",
      "    applied = getattr(b, f)(**kwargs)\n",
      "  File \"C:\\Users\\abhis\\anaconda3\\lib\\site-packages\\pandas\\core\\internals\\blocks.py\", line 580, in astype\n",
      "    new_values = astype_array_safe(values, dtype, copy=copy, errors=errors)\n",
      "  File \"C:\\Users\\abhis\\anaconda3\\lib\\site-packages\\pandas\\core\\dtypes\\cast.py\", line 1292, in astype_array_safe\n",
      "    new_values = astype_array(values, dtype, copy=copy)\n",
      "  File \"C:\\Users\\abhis\\anaconda3\\lib\\site-packages\\pandas\\core\\dtypes\\cast.py\", line 1237, in astype_array\n",
      "    values = astype_nansafe(values, dtype, copy=copy)\n",
      "  File \"C:\\Users\\abhis\\anaconda3\\lib\\site-packages\\pandas\\core\\dtypes\\cast.py\", line 1154, in astype_nansafe\n",
      "    return lib.astype_intsafe(arr, dtype)\n",
      "  File \"pandas\\_libs\\lib.pyx\", line 668, in pandas._libs.lib.astype_intsafe\n",
      "OverflowError: Python int too large to convert to C long\n",
      "127.0.0.1 - - [19/Apr/2022 13:11:11] \"POST /predict HTTP/1.1\" 500 -\n",
      "127.0.0.1 - - [19/Apr/2022 13:11:21] \"OPTIONS /predict HTTP/1.1\" 200 -\n",
      "[2022-04-19 13:11:21,474] ERROR in app: Exception on /predict [POST]\n",
      "Traceback (most recent call last):\n",
      "  File \"C:\\Users\\abhis\\anaconda3\\lib\\site-packages\\flask\\app.py\", line 2447, in wsgi_app\n",
      "    response = self.full_dispatch_request()\n",
      "  File \"C:\\Users\\abhis\\anaconda3\\lib\\site-packages\\flask\\app.py\", line 1952, in full_dispatch_request\n",
      "    rv = self.handle_user_exception(e)\n",
      "  File \"C:\\Users\\abhis\\anaconda3\\lib\\site-packages\\flask_cors\\extension.py\", line 165, in wrapped_function\n",
      "    return cors_after_request(app.make_response(f(*args, **kwargs)))\n",
      "  File \"C:\\Users\\abhis\\anaconda3\\lib\\site-packages\\flask\\app.py\", line 1821, in handle_user_exception\n",
      "    reraise(exc_type, exc_value, tb)\n",
      "  File \"C:\\Users\\abhis\\anaconda3\\lib\\site-packages\\flask\\_compat.py\", line 39, in reraise\n",
      "    raise value\n",
      "  File \"C:\\Users\\abhis\\anaconda3\\lib\\site-packages\\flask\\app.py\", line 1950, in full_dispatch_request\n",
      "    rv = self.dispatch_request()\n",
      "  File \"C:\\Users\\abhis\\anaconda3\\lib\\site-packages\\flask\\app.py\", line 1936, in dispatch_request\n",
      "    return self.view_functions[rule.endpoint](**req.view_args)\n",
      "  File \"C:\\Users\\abhis\\AppData\\Local\\Temp/ipykernel_17248/1562411684.py\", line 119, in home\n",
      "    data['doc_id'] = data['doc_id'].astype(int)\n",
      "  File \"C:\\Users\\abhis\\anaconda3\\lib\\site-packages\\pandas\\core\\generic.py\", line 5920, in astype\n",
      "    new_data = self._mgr.astype(dtype=dtype, copy=copy, errors=errors)\n",
      "  File \"C:\\Users\\abhis\\anaconda3\\lib\\site-packages\\pandas\\core\\internals\\managers.py\", line 419, in astype\n",
      "    return self.apply(\"astype\", dtype=dtype, copy=copy, errors=errors)\n",
      "  File \"C:\\Users\\abhis\\anaconda3\\lib\\site-packages\\pandas\\core\\internals\\managers.py\", line 304, in apply\n",
      "    applied = getattr(b, f)(**kwargs)\n",
      "  File \"C:\\Users\\abhis\\anaconda3\\lib\\site-packages\\pandas\\core\\internals\\blocks.py\", line 580, in astype\n",
      "    new_values = astype_array_safe(values, dtype, copy=copy, errors=errors)\n",
      "  File \"C:\\Users\\abhis\\anaconda3\\lib\\site-packages\\pandas\\core\\dtypes\\cast.py\", line 1292, in astype_array_safe\n",
      "    new_values = astype_array(values, dtype, copy=copy)\n",
      "  File \"C:\\Users\\abhis\\anaconda3\\lib\\site-packages\\pandas\\core\\dtypes\\cast.py\", line 1237, in astype_array\n",
      "    values = astype_nansafe(values, dtype, copy=copy)\n",
      "  File \"C:\\Users\\abhis\\anaconda3\\lib\\site-packages\\pandas\\core\\dtypes\\cast.py\", line 1154, in astype_nansafe\n",
      "    return lib.astype_intsafe(arr, dtype)\n",
      "  File \"pandas\\_libs\\lib.pyx\", line 668, in pandas._libs.lib.astype_intsafe\n",
      "OverflowError: Python int too large to convert to C long\n",
      "127.0.0.1 - - [19/Apr/2022 13:11:21] \"POST /predict HTTP/1.1\" 500 -\n",
      "127.0.0.1 - - [19/Apr/2022 13:11:34] \"OPTIONS /predict HTTP/1.1\" 200 -\n",
      "C:\\Users\\abhis\\anaconda3\\lib\\site-packages\\xgboost\\data.py:262: FutureWarning: pandas.Int64Index is deprecated and will be removed from pandas in a future version. Use pandas.Index with the appropriate dtype instead.\n",
      "  elif isinstance(data.columns, (pd.Int64Index, pd.RangeIndex)):\n",
      "127.0.0.1 - - [19/Apr/2022 13:11:34] \"POST /predict HTTP/1.1\" 200 -\n"
     ]
    },
    {
     "name": "stdout",
     "output_type": "stream",
     "text": [
      "       doc_id Aging Bucket\n",
      "0  1929873765         0-15\n"
     ]
    },
    {
     "name": "stderr",
     "output_type": "stream",
     "text": [
      "127.0.0.1 - - [19/Apr/2022 13:11:40] \"OPTIONS /predict HTTP/1.1\" 200 -\n",
      "C:\\Users\\abhis\\anaconda3\\lib\\site-packages\\xgboost\\data.py:262: FutureWarning: pandas.Int64Index is deprecated and will be removed from pandas in a future version. Use pandas.Index with the appropriate dtype instead.\n",
      "  elif isinstance(data.columns, (pd.Int64Index, pd.RangeIndex)):\n",
      "127.0.0.1 - - [19/Apr/2022 13:11:41] \"POST /predict HTTP/1.1\" 200 -\n"
     ]
    },
    {
     "name": "stdout",
     "output_type": "stream",
     "text": [
      "       doc_id Aging Bucket\n",
      "0  1930147974         0-15\n"
     ]
    },
    {
     "name": "stderr",
     "output_type": "stream",
     "text": [
      "127.0.0.1 - - [19/Apr/2022 13:12:09] \"OPTIONS /predict HTTP/1.1\" 200 -\n",
      "C:\\Users\\abhis\\anaconda3\\lib\\site-packages\\xgboost\\data.py:262: FutureWarning: pandas.Int64Index is deprecated and will be removed from pandas in a future version. Use pandas.Index with the appropriate dtype instead.\n",
      "  elif isinstance(data.columns, (pd.Int64Index, pd.RangeIndex)):\n",
      "127.0.0.1 - - [19/Apr/2022 13:12:09] \"POST /predict HTTP/1.1\" 200 -\n"
     ]
    },
    {
     "name": "stdout",
     "output_type": "stream",
     "text": [
      "       doc_id Aging Bucket\n",
      "0  1930147974         0-15\n"
     ]
    },
    {
     "name": "stderr",
     "output_type": "stream",
     "text": [
      "127.0.0.1 - - [19/Apr/2022 13:12:49] \"OPTIONS /predict HTTP/1.1\" 200 -\n",
      "[2022-04-19 13:12:49,359] ERROR in app: Exception on /predict [POST]\n",
      "Traceback (most recent call last):\n",
      "  File \"C:\\Users\\abhis\\anaconda3\\lib\\site-packages\\flask\\app.py\", line 2447, in wsgi_app\n",
      "    response = self.full_dispatch_request()\n",
      "  File \"C:\\Users\\abhis\\anaconda3\\lib\\site-packages\\flask\\app.py\", line 1952, in full_dispatch_request\n",
      "    rv = self.handle_user_exception(e)\n",
      "  File \"C:\\Users\\abhis\\anaconda3\\lib\\site-packages\\flask_cors\\extension.py\", line 165, in wrapped_function\n",
      "    return cors_after_request(app.make_response(f(*args, **kwargs)))\n",
      "  File \"C:\\Users\\abhis\\anaconda3\\lib\\site-packages\\flask\\app.py\", line 1821, in handle_user_exception\n",
      "    reraise(exc_type, exc_value, tb)\n",
      "  File \"C:\\Users\\abhis\\anaconda3\\lib\\site-packages\\flask\\_compat.py\", line 39, in reraise\n",
      "    raise value\n",
      "  File \"C:\\Users\\abhis\\anaconda3\\lib\\site-packages\\flask\\app.py\", line 1950, in full_dispatch_request\n",
      "    rv = self.dispatch_request()\n",
      "  File \"C:\\Users\\abhis\\anaconda3\\lib\\site-packages\\flask\\app.py\", line 1936, in dispatch_request\n",
      "    return self.view_functions[rule.endpoint](**req.view_args)\n",
      "  File \"C:\\Users\\abhis\\AppData\\Local\\Temp/ipykernel_17248/1562411684.py\", line 119, in home\n",
      "    data['doc_id'] = data['doc_id'].astype(int)\n",
      "  File \"C:\\Users\\abhis\\anaconda3\\lib\\site-packages\\pandas\\core\\generic.py\", line 5920, in astype\n",
      "    new_data = self._mgr.astype(dtype=dtype, copy=copy, errors=errors)\n",
      "  File \"C:\\Users\\abhis\\anaconda3\\lib\\site-packages\\pandas\\core\\internals\\managers.py\", line 419, in astype\n",
      "    return self.apply(\"astype\", dtype=dtype, copy=copy, errors=errors)\n",
      "  File \"C:\\Users\\abhis\\anaconda3\\lib\\site-packages\\pandas\\core\\internals\\managers.py\", line 304, in apply\n",
      "    applied = getattr(b, f)(**kwargs)\n",
      "  File \"C:\\Users\\abhis\\anaconda3\\lib\\site-packages\\pandas\\core\\internals\\blocks.py\", line 580, in astype\n",
      "    new_values = astype_array_safe(values, dtype, copy=copy, errors=errors)\n",
      "  File \"C:\\Users\\abhis\\anaconda3\\lib\\site-packages\\pandas\\core\\dtypes\\cast.py\", line 1292, in astype_array_safe\n",
      "    new_values = astype_array(values, dtype, copy=copy)\n",
      "  File \"C:\\Users\\abhis\\anaconda3\\lib\\site-packages\\pandas\\core\\dtypes\\cast.py\", line 1237, in astype_array\n",
      "    values = astype_nansafe(values, dtype, copy=copy)\n",
      "  File \"C:\\Users\\abhis\\anaconda3\\lib\\site-packages\\pandas\\core\\dtypes\\cast.py\", line 1154, in astype_nansafe\n",
      "    return lib.astype_intsafe(arr, dtype)\n",
      "  File \"pandas\\_libs\\lib.pyx\", line 668, in pandas._libs.lib.astype_intsafe\n",
      "OverflowError: Python int too large to convert to C long\n",
      "127.0.0.1 - - [19/Apr/2022 13:12:49] \"POST /predict HTTP/1.1\" 500 -\n",
      "127.0.0.1 - - [19/Apr/2022 13:12:59] \"OPTIONS /predict HTTP/1.1\" 200 -\n",
      "[2022-04-19 13:12:59,743] ERROR in app: Exception on /predict [POST]\n",
      "Traceback (most recent call last):\n",
      "  File \"C:\\Users\\abhis\\anaconda3\\lib\\site-packages\\pandas\\core\\arrays\\datetimes.py\", line 2211, in objects_to_datetime64ns\n",
      "    values, tz_parsed = conversion.datetime_to_datetime64(data.ravel(\"K\"))\n",
      "  File \"pandas\\_libs\\tslibs\\conversion.pyx\", line 360, in pandas._libs.tslibs.conversion.datetime_to_datetime64\n",
      "TypeError: Unrecognized value type: <class 'str'>\n",
      "\n",
      "During handling of the above exception, another exception occurred:\n",
      "\n",
      "Traceback (most recent call last):\n",
      "  File \"C:\\Users\\abhis\\anaconda3\\lib\\site-packages\\flask\\app.py\", line 2447, in wsgi_app\n",
      "    response = self.full_dispatch_request()\n",
      "  File \"C:\\Users\\abhis\\anaconda3\\lib\\site-packages\\flask\\app.py\", line 1952, in full_dispatch_request\n",
      "    rv = self.handle_user_exception(e)\n",
      "  File \"C:\\Users\\abhis\\anaconda3\\lib\\site-packages\\flask_cors\\extension.py\", line 165, in wrapped_function\n",
      "    return cors_after_request(app.make_response(f(*args, **kwargs)))\n",
      "  File \"C:\\Users\\abhis\\anaconda3\\lib\\site-packages\\flask\\app.py\", line 1821, in handle_user_exception\n",
      "    reraise(exc_type, exc_value, tb)\n",
      "  File \"C:\\Users\\abhis\\anaconda3\\lib\\site-packages\\flask\\_compat.py\", line 39, in reraise\n",
      "    raise value\n",
      "  File \"C:\\Users\\abhis\\anaconda3\\lib\\site-packages\\flask\\app.py\", line 1950, in full_dispatch_request\n",
      "    rv = self.dispatch_request()\n",
      "  File \"C:\\Users\\abhis\\anaconda3\\lib\\site-packages\\flask\\app.py\", line 1936, in dispatch_request\n",
      "    return self.view_functions[rule.endpoint](**req.view_args)\n",
      "  File \"C:\\Users\\abhis\\AppData\\Local\\Temp/ipykernel_17248/1562411684.py\", line 124, in home\n",
      "    response = make_response(jsonify(predict(data)),200)\n",
      "  File \"C:\\Users\\abhis\\AppData\\Local\\Temp/ipykernel_17248/1562411684.py\", line 30, in predict\n",
      "    data['clear_date'] = pd.to_datetime(data['clear_date'], format = '%Y-%m-%d')\n",
      "  File \"C:\\Users\\abhis\\anaconda3\\lib\\site-packages\\pandas\\core\\tools\\datetimes.py\", line 1051, in to_datetime\n",
      "    values = convert_listlike(arg._values, format)\n",
      "  File \"C:\\Users\\abhis\\anaconda3\\lib\\site-packages\\pandas\\core\\tools\\datetimes.py\", line 402, in _convert_listlike_datetimes\n",
      "    result, tz_parsed = objects_to_datetime64ns(\n",
      "  File \"C:\\Users\\abhis\\anaconda3\\lib\\site-packages\\pandas\\core\\arrays\\datetimes.py\", line 2217, in objects_to_datetime64ns\n",
      "    raise err\n",
      "  File \"C:\\Users\\abhis\\anaconda3\\lib\\site-packages\\pandas\\core\\arrays\\datetimes.py\", line 2199, in objects_to_datetime64ns\n",
      "    result, tz_parsed = tslib.array_to_datetime(\n",
      "  File \"pandas\\_libs\\tslib.pyx\", line 381, in pandas._libs.tslib.array_to_datetime\n",
      "  File \"pandas\\_libs\\tslib.pyx\", line 530, in pandas._libs.tslib.array_to_datetime\n",
      "ValueError: time data 0000-00-00 doesn't match format specified\n",
      "127.0.0.1 - - [19/Apr/2022 13:12:59] \"POST /predict HTTP/1.1\" 500 -\n",
      "127.0.0.1 - - [19/Apr/2022 13:13:08] \"OPTIONS /predict HTTP/1.1\" 200 -\n",
      "C:\\Users\\abhis\\anaconda3\\lib\\site-packages\\xgboost\\data.py:262: FutureWarning: pandas.Int64Index is deprecated and will be removed from pandas in a future version. Use pandas.Index with the appropriate dtype instead.\n",
      "  elif isinstance(data.columns, (pd.Int64Index, pd.RangeIndex)):\n",
      "127.0.0.1 - - [19/Apr/2022 13:13:08] \"POST /predict HTTP/1.1\" 200 -\n"
     ]
    },
    {
     "name": "stdout",
     "output_type": "stream",
     "text": [
      "       doc_id Aging Bucket\n",
      "0  1929439637         0-15\n"
     ]
    },
    {
     "name": "stderr",
     "output_type": "stream",
     "text": [
      "127.0.0.1 - - [19/Apr/2022 13:15:16] \"OPTIONS /predict HTTP/1.1\" 200 -\n",
      "C:\\Users\\abhis\\anaconda3\\lib\\site-packages\\xgboost\\data.py:262: FutureWarning: pandas.Int64Index is deprecated and will be removed from pandas in a future version. Use pandas.Index with the appropriate dtype instead.\n",
      "  elif isinstance(data.columns, (pd.Int64Index, pd.RangeIndex)):\n",
      "127.0.0.1 - - [19/Apr/2022 13:15:16] \"POST /predict HTTP/1.1\" 200 -\n"
     ]
    },
    {
     "name": "stdout",
     "output_type": "stream",
     "text": [
      "       doc_id Aging Bucket\n",
      "0  1929439637         0-15\n"
     ]
    },
    {
     "name": "stderr",
     "output_type": "stream",
     "text": [
      "127.0.0.1 - - [19/Apr/2022 13:15:26] \"OPTIONS /predict HTTP/1.1\" 200 -\n",
      "C:\\Users\\abhis\\anaconda3\\lib\\site-packages\\xgboost\\data.py:262: FutureWarning: pandas.Int64Index is deprecated and will be removed from pandas in a future version. Use pandas.Index with the appropriate dtype instead.\n",
      "  elif isinstance(data.columns, (pd.Int64Index, pd.RangeIndex)):\n",
      "127.0.0.1 - - [19/Apr/2022 13:15:26] \"POST /predict HTTP/1.1\" 200 -\n"
     ]
    },
    {
     "name": "stdout",
     "output_type": "stream",
     "text": [
      "       doc_id Aging Bucket\n",
      "0  1929439637         0-15\n",
      "1  1928819386         0-15\n"
     ]
    },
    {
     "name": "stderr",
     "output_type": "stream",
     "text": [
      "127.0.0.1 - - [19/Apr/2022 13:21:49] \"OPTIONS /predict HTTP/1.1\" 200 -\n",
      "C:\\Users\\abhis\\anaconda3\\lib\\site-packages\\xgboost\\data.py:262: FutureWarning: pandas.Int64Index is deprecated and will be removed from pandas in a future version. Use pandas.Index with the appropriate dtype instead.\n",
      "  elif isinstance(data.columns, (pd.Int64Index, pd.RangeIndex)):\n",
      "127.0.0.1 - - [19/Apr/2022 13:21:49] \"POST /predict HTTP/1.1\" 200 -\n"
     ]
    },
    {
     "name": "stdout",
     "output_type": "stream",
     "text": [
      "       doc_id Aging Bucket\n",
      "0  1930438491           <0\n"
     ]
    },
    {
     "name": "stderr",
     "output_type": "stream",
     "text": [
      "127.0.0.1 - - [19/Apr/2022 13:21:58] \"OPTIONS /predict HTTP/1.1\" 200 -\n",
      "C:\\Users\\abhis\\anaconda3\\lib\\site-packages\\xgboost\\data.py:262: FutureWarning: pandas.Int64Index is deprecated and will be removed from pandas in a future version. Use pandas.Index with the appropriate dtype instead.\n",
      "  elif isinstance(data.columns, (pd.Int64Index, pd.RangeIndex)):\n",
      "127.0.0.1 - - [19/Apr/2022 13:21:59] \"POST /predict HTTP/1.1\" 200 -\n"
     ]
    },
    {
     "name": "stdout",
     "output_type": "stream",
     "text": [
      "       doc_id Aging Bucket\n",
      "0  1930438491           <0\n"
     ]
    },
    {
     "name": "stderr",
     "output_type": "stream",
     "text": [
      "127.0.0.1 - - [19/Apr/2022 13:23:33] \"OPTIONS /predict HTTP/1.1\" 200 -\n",
      "C:\\Users\\abhis\\anaconda3\\lib\\site-packages\\xgboost\\data.py:262: FutureWarning: pandas.Int64Index is deprecated and will be removed from pandas in a future version. Use pandas.Index with the appropriate dtype instead.\n",
      "  elif isinstance(data.columns, (pd.Int64Index, pd.RangeIndex)):\n",
      "127.0.0.1 - - [19/Apr/2022 13:23:33] \"POST /predict HTTP/1.1\" 200 -\n"
     ]
    },
    {
     "name": "stdout",
     "output_type": "stream",
     "text": [
      "       doc_id Aging Bucket\n",
      "0  1929646410         0-15\n"
     ]
    },
    {
     "name": "stderr",
     "output_type": "stream",
     "text": [
      "127.0.0.1 - - [19/Apr/2022 13:23:49] \"OPTIONS /predict HTTP/1.1\" 200 -\n",
      "C:\\Users\\abhis\\anaconda3\\lib\\site-packages\\xgboost\\data.py:262: FutureWarning: pandas.Int64Index is deprecated and will be removed from pandas in a future version. Use pandas.Index with the appropriate dtype instead.\n",
      "  elif isinstance(data.columns, (pd.Int64Index, pd.RangeIndex)):\n",
      "127.0.0.1 - - [19/Apr/2022 13:23:49] \"POST /predict HTTP/1.1\" 200 -\n"
     ]
    },
    {
     "name": "stdout",
     "output_type": "stream",
     "text": [
      "       doc_id Aging Bucket\n",
      "0  1929646410         0-15\n"
     ]
    },
    {
     "name": "stderr",
     "output_type": "stream",
     "text": [
      "127.0.0.1 - - [19/Apr/2022 13:23:59] \"OPTIONS /predict HTTP/1.1\" 200 -\n",
      "C:\\Users\\abhis\\anaconda3\\lib\\site-packages\\xgboost\\data.py:262: FutureWarning: pandas.Int64Index is deprecated and will be removed from pandas in a future version. Use pandas.Index with the appropriate dtype instead.\n",
      "  elif isinstance(data.columns, (pd.Int64Index, pd.RangeIndex)):\n",
      "127.0.0.1 - - [19/Apr/2022 13:23:59] \"POST /predict HTTP/1.1\" 200 -\n"
     ]
    },
    {
     "name": "stdout",
     "output_type": "stream",
     "text": [
      "       doc_id Aging Bucket\n",
      "0  1929646410           <0\n",
      "1  1929873765         0-15\n"
     ]
    },
    {
     "name": "stderr",
     "output_type": "stream",
     "text": [
      "C:\\Users\\abhis\\anaconda3\\lib\\site-packages\\xgboost\\data.py:262: FutureWarning: pandas.Int64Index is deprecated and will be removed from pandas in a future version. Use pandas.Index with the appropriate dtype instead.\n",
      "  elif isinstance(data.columns, (pd.Int64Index, pd.RangeIndex)):\n",
      "127.0.0.1 - - [19/Apr/2022 13:24:03] \"POST /predict HTTP/1.1\" 200 -\n"
     ]
    },
    {
     "name": "stdout",
     "output_type": "stream",
     "text": [
      "       doc_id Aging Bucket\n",
      "0  1929646410           <0\n",
      "1  1929873765         0-15\n"
     ]
    },
    {
     "name": "stderr",
     "output_type": "stream",
     "text": [
      "127.0.0.1 - - [19/Apr/2022 13:27:15] \"OPTIONS /predict HTTP/1.1\" 200 -\n",
      "C:\\Users\\abhis\\anaconda3\\lib\\site-packages\\xgboost\\data.py:262: FutureWarning: pandas.Int64Index is deprecated and will be removed from pandas in a future version. Use pandas.Index with the appropriate dtype instead.\n",
      "  elif isinstance(data.columns, (pd.Int64Index, pd.RangeIndex)):\n",
      "127.0.0.1 - - [19/Apr/2022 13:27:16] \"POST /predict HTTP/1.1\" 200 -\n"
     ]
    },
    {
     "name": "stdout",
     "output_type": "stream",
     "text": [
      "       doc_id Aging Bucket\n",
      "0  1929646410           <0\n",
      "1  1929873765         0-15\n"
     ]
    },
    {
     "name": "stderr",
     "output_type": "stream",
     "text": [
      "127.0.0.1 - - [19/Apr/2022 13:27:24] \"OPTIONS /predict HTTP/1.1\" 200 -\n",
      "[2022-04-19 13:27:24,160] ERROR in app: Exception on /predict [POST]\n",
      "Traceback (most recent call last):\n",
      "  File \"C:\\Users\\abhis\\anaconda3\\lib\\site-packages\\flask\\app.py\", line 2447, in wsgi_app\n",
      "    response = self.full_dispatch_request()\n",
      "  File \"C:\\Users\\abhis\\anaconda3\\lib\\site-packages\\flask\\app.py\", line 1952, in full_dispatch_request\n",
      "    rv = self.handle_user_exception(e)\n",
      "  File \"C:\\Users\\abhis\\anaconda3\\lib\\site-packages\\flask_cors\\extension.py\", line 165, in wrapped_function\n",
      "    return cors_after_request(app.make_response(f(*args, **kwargs)))\n",
      "  File \"C:\\Users\\abhis\\anaconda3\\lib\\site-packages\\flask\\app.py\", line 1821, in handle_user_exception\n",
      "    reraise(exc_type, exc_value, tb)\n",
      "  File \"C:\\Users\\abhis\\anaconda3\\lib\\site-packages\\flask\\_compat.py\", line 39, in reraise\n",
      "    raise value\n",
      "  File \"C:\\Users\\abhis\\anaconda3\\lib\\site-packages\\flask\\app.py\", line 1950, in full_dispatch_request\n",
      "    rv = self.dispatch_request()\n",
      "  File \"C:\\Users\\abhis\\anaconda3\\lib\\site-packages\\flask\\app.py\", line 1936, in dispatch_request\n",
      "    return self.view_functions[rule.endpoint](**req.view_args)\n",
      "  File \"C:\\Users\\abhis\\AppData\\Local\\Temp/ipykernel_17248/1562411684.py\", line 119, in home\n",
      "    data['doc_id'] = data['doc_id'].astype(int)\n",
      "  File \"C:\\Users\\abhis\\anaconda3\\lib\\site-packages\\pandas\\core\\generic.py\", line 5920, in astype\n",
      "    new_data = self._mgr.astype(dtype=dtype, copy=copy, errors=errors)\n",
      "  File \"C:\\Users\\abhis\\anaconda3\\lib\\site-packages\\pandas\\core\\internals\\managers.py\", line 419, in astype\n",
      "    return self.apply(\"astype\", dtype=dtype, copy=copy, errors=errors)\n",
      "  File \"C:\\Users\\abhis\\anaconda3\\lib\\site-packages\\pandas\\core\\internals\\managers.py\", line 304, in apply\n",
      "    applied = getattr(b, f)(**kwargs)\n",
      "  File \"C:\\Users\\abhis\\anaconda3\\lib\\site-packages\\pandas\\core\\internals\\blocks.py\", line 580, in astype\n",
      "    new_values = astype_array_safe(values, dtype, copy=copy, errors=errors)\n",
      "  File \"C:\\Users\\abhis\\anaconda3\\lib\\site-packages\\pandas\\core\\dtypes\\cast.py\", line 1292, in astype_array_safe\n",
      "    new_values = astype_array(values, dtype, copy=copy)\n",
      "  File \"C:\\Users\\abhis\\anaconda3\\lib\\site-packages\\pandas\\core\\dtypes\\cast.py\", line 1237, in astype_array\n",
      "    values = astype_nansafe(values, dtype, copy=copy)\n",
      "  File \"C:\\Users\\abhis\\anaconda3\\lib\\site-packages\\pandas\\core\\dtypes\\cast.py\", line 1154, in astype_nansafe\n",
      "    return lib.astype_intsafe(arr, dtype)\n",
      "  File \"pandas\\_libs\\lib.pyx\", line 668, in pandas._libs.lib.astype_intsafe\n",
      "OverflowError: Python int too large to convert to C long\n",
      "127.0.0.1 - - [19/Apr/2022 13:27:24] \"POST /predict HTTP/1.1\" 500 -\n",
      "127.0.0.1 - - [19/Apr/2022 13:27:33] \"OPTIONS /predict HTTP/1.1\" 200 -\n",
      "C:\\Users\\abhis\\anaconda3\\lib\\site-packages\\xgboost\\data.py:262: FutureWarning: pandas.Int64Index is deprecated and will be removed from pandas in a future version. Use pandas.Index with the appropriate dtype instead.\n",
      "  elif isinstance(data.columns, (pd.Int64Index, pd.RangeIndex)):\n",
      "127.0.0.1 - - [19/Apr/2022 13:27:33] \"POST /predict HTTP/1.1\" 200 -\n"
     ]
    },
    {
     "name": "stdout",
     "output_type": "stream",
     "text": [
      "       doc_id Aging Bucket\n",
      "0  1930083373         0-15\n"
     ]
    },
    {
     "name": "stderr",
     "output_type": "stream",
     "text": [
      "127.0.0.1 - - [19/Apr/2022 13:28:35] \"OPTIONS /predict HTTP/1.1\" 200 -\n",
      "C:\\Users\\abhis\\anaconda3\\lib\\site-packages\\xgboost\\data.py:262: FutureWarning: pandas.Int64Index is deprecated and will be removed from pandas in a future version. Use pandas.Index with the appropriate dtype instead.\n",
      "  elif isinstance(data.columns, (pd.Int64Index, pd.RangeIndex)):\n",
      "127.0.0.1 - - [19/Apr/2022 13:28:36] \"POST /predict HTTP/1.1\" 200 -\n"
     ]
    },
    {
     "name": "stdout",
     "output_type": "stream",
     "text": [
      "       doc_id Aging Bucket\n",
      "0  1930438491           <0\n"
     ]
    },
    {
     "name": "stderr",
     "output_type": "stream",
     "text": [
      "127.0.0.1 - - [19/Apr/2022 13:28:44] \"OPTIONS /predict HTTP/1.1\" 200 -\n",
      "C:\\Users\\abhis\\anaconda3\\lib\\site-packages\\xgboost\\data.py:262: FutureWarning: pandas.Int64Index is deprecated and will be removed from pandas in a future version. Use pandas.Index with the appropriate dtype instead.\n",
      "  elif isinstance(data.columns, (pd.Int64Index, pd.RangeIndex)):\n",
      "127.0.0.1 - - [19/Apr/2022 13:28:44] \"POST /predict HTTP/1.1\" 200 -\n"
     ]
    },
    {
     "name": "stdout",
     "output_type": "stream",
     "text": [
      "       doc_id Aging Bucket\n",
      "0  1930438491           <0\n"
     ]
    },
    {
     "name": "stderr",
     "output_type": "stream",
     "text": [
      "127.0.0.1 - - [19/Apr/2022 13:29:09] \"OPTIONS /predict HTTP/1.1\" 200 -\n",
      "C:\\Users\\abhis\\anaconda3\\lib\\site-packages\\xgboost\\data.py:262: FutureWarning: pandas.Int64Index is deprecated and will be removed from pandas in a future version. Use pandas.Index with the appropriate dtype instead.\n",
      "  elif isinstance(data.columns, (pd.Int64Index, pd.RangeIndex)):\n",
      "127.0.0.1 - - [19/Apr/2022 13:29:09] \"POST /predict HTTP/1.1\" 200 -\n"
     ]
    },
    {
     "name": "stdout",
     "output_type": "stream",
     "text": [
      "       doc_id Aging Bucket\n",
      "0  1930438491           <0\n"
     ]
    },
    {
     "name": "stderr",
     "output_type": "stream",
     "text": [
      "C:\\Users\\abhis\\anaconda3\\lib\\site-packages\\xgboost\\data.py:262: FutureWarning: pandas.Int64Index is deprecated and will be removed from pandas in a future version. Use pandas.Index with the appropriate dtype instead.\n",
      "  elif isinstance(data.columns, (pd.Int64Index, pd.RangeIndex)):\n",
      "127.0.0.1 - - [19/Apr/2022 13:29:11] \"POST /predict HTTP/1.1\" 200 -\n"
     ]
    },
    {
     "name": "stdout",
     "output_type": "stream",
     "text": [
      "       doc_id Aging Bucket\n",
      "0  1930438491           <0\n"
     ]
    },
    {
     "name": "stderr",
     "output_type": "stream",
     "text": [
      "127.0.0.1 - - [19/Apr/2022 13:29:32] \"OPTIONS /predict HTTP/1.1\" 200 -\n",
      "C:\\Users\\abhis\\anaconda3\\lib\\site-packages\\xgboost\\data.py:262: FutureWarning: pandas.Int64Index is deprecated and will be removed from pandas in a future version. Use pandas.Index with the appropriate dtype instead.\n",
      "  elif isinstance(data.columns, (pd.Int64Index, pd.RangeIndex)):\n",
      "127.0.0.1 - - [19/Apr/2022 13:29:32] \"POST /predict HTTP/1.1\" 200 -\n"
     ]
    },
    {
     "name": "stdout",
     "output_type": "stream",
     "text": [
      "       doc_id Aging Bucket\n",
      "0  1929646410         0-15\n"
     ]
    },
    {
     "name": "stderr",
     "output_type": "stream",
     "text": [
      "127.0.0.1 - - [19/Apr/2022 13:29:44] \"OPTIONS /predict HTTP/1.1\" 200 -\n",
      "C:\\Users\\abhis\\anaconda3\\lib\\site-packages\\xgboost\\data.py:262: FutureWarning: pandas.Int64Index is deprecated and will be removed from pandas in a future version. Use pandas.Index with the appropriate dtype instead.\n",
      "  elif isinstance(data.columns, (pd.Int64Index, pd.RangeIndex)):\n",
      "127.0.0.1 - - [19/Apr/2022 13:29:44] \"POST /predict HTTP/1.1\" 200 -\n"
     ]
    },
    {
     "name": "stdout",
     "output_type": "stream",
     "text": [
      "       doc_id Aging Bucket\n",
      "0  1929646410         0-15\n"
     ]
    },
    {
     "name": "stderr",
     "output_type": "stream",
     "text": [
      "127.0.0.1 - - [19/Apr/2022 13:30:28] \"OPTIONS /predict HTTP/1.1\" 200 -\n",
      "C:\\Users\\abhis\\anaconda3\\lib\\site-packages\\xgboost\\data.py:262: FutureWarning: pandas.Int64Index is deprecated and will be removed from pandas in a future version. Use pandas.Index with the appropriate dtype instead.\n",
      "  elif isinstance(data.columns, (pd.Int64Index, pd.RangeIndex)):\n",
      "127.0.0.1 - - [19/Apr/2022 13:30:28] \"POST /predict HTTP/1.1\" 200 -\n"
     ]
    },
    {
     "name": "stdout",
     "output_type": "stream",
     "text": [
      "       doc_id Aging Bucket\n",
      "0  1930438491           <0\n",
      "1  1929646410           <0\n",
      "2  1929873765         0-15\n"
     ]
    },
    {
     "name": "stderr",
     "output_type": "stream",
     "text": [
      "127.0.0.1 - - [19/Apr/2022 13:30:33] \"OPTIONS /predict HTTP/1.1\" 200 -\n",
      "C:\\Users\\abhis\\anaconda3\\lib\\site-packages\\xgboost\\data.py:262: FutureWarning: pandas.Int64Index is deprecated and will be removed from pandas in a future version. Use pandas.Index with the appropriate dtype instead.\n",
      "  elif isinstance(data.columns, (pd.Int64Index, pd.RangeIndex)):\n",
      "127.0.0.1 - - [19/Apr/2022 13:30:33] \"POST /predict HTTP/1.1\" 200 -\n"
     ]
    },
    {
     "name": "stdout",
     "output_type": "stream",
     "text": [
      "       doc_id Aging Bucket\n",
      "0  1930438491           <0\n",
      "1  1929646410           <0\n",
      "2  1929873765         0-15\n"
     ]
    },
    {
     "name": "stderr",
     "output_type": "stream",
     "text": [
      "127.0.0.1 - - [19/Apr/2022 13:30:51] \"OPTIONS /predict HTTP/1.1\" 200 -\n",
      "[2022-04-19 13:30:51,657] ERROR in app: Exception on /predict [POST]\n",
      "Traceback (most recent call last):\n",
      "  File \"C:\\Users\\abhis\\anaconda3\\lib\\site-packages\\flask\\app.py\", line 2447, in wsgi_app\n",
      "    response = self.full_dispatch_request()\n",
      "  File \"C:\\Users\\abhis\\anaconda3\\lib\\site-packages\\flask\\app.py\", line 1952, in full_dispatch_request\n",
      "    rv = self.handle_user_exception(e)\n",
      "  File \"C:\\Users\\abhis\\anaconda3\\lib\\site-packages\\flask_cors\\extension.py\", line 165, in wrapped_function\n",
      "    return cors_after_request(app.make_response(f(*args, **kwargs)))\n",
      "  File \"C:\\Users\\abhis\\anaconda3\\lib\\site-packages\\flask\\app.py\", line 1821, in handle_user_exception\n",
      "    reraise(exc_type, exc_value, tb)\n",
      "  File \"C:\\Users\\abhis\\anaconda3\\lib\\site-packages\\flask\\_compat.py\", line 39, in reraise\n",
      "    raise value\n",
      "  File \"C:\\Users\\abhis\\anaconda3\\lib\\site-packages\\flask\\app.py\", line 1950, in full_dispatch_request\n",
      "    rv = self.dispatch_request()\n",
      "  File \"C:\\Users\\abhis\\anaconda3\\lib\\site-packages\\flask\\app.py\", line 1936, in dispatch_request\n",
      "    return self.view_functions[rule.endpoint](**req.view_args)\n",
      "  File \"C:\\Users\\abhis\\AppData\\Local\\Temp/ipykernel_17248/1562411684.py\", line 119, in home\n",
      "    data['doc_id'] = data['doc_id'].astype(int)\n",
      "  File \"C:\\Users\\abhis\\anaconda3\\lib\\site-packages\\pandas\\core\\generic.py\", line 5920, in astype\n",
      "    new_data = self._mgr.astype(dtype=dtype, copy=copy, errors=errors)\n",
      "  File \"C:\\Users\\abhis\\anaconda3\\lib\\site-packages\\pandas\\core\\internals\\managers.py\", line 419, in astype\n",
      "    return self.apply(\"astype\", dtype=dtype, copy=copy, errors=errors)\n",
      "  File \"C:\\Users\\abhis\\anaconda3\\lib\\site-packages\\pandas\\core\\internals\\managers.py\", line 304, in apply\n",
      "    applied = getattr(b, f)(**kwargs)\n",
      "  File \"C:\\Users\\abhis\\anaconda3\\lib\\site-packages\\pandas\\core\\internals\\blocks.py\", line 580, in astype\n",
      "    new_values = astype_array_safe(values, dtype, copy=copy, errors=errors)\n",
      "  File \"C:\\Users\\abhis\\anaconda3\\lib\\site-packages\\pandas\\core\\dtypes\\cast.py\", line 1292, in astype_array_safe\n",
      "    new_values = astype_array(values, dtype, copy=copy)\n",
      "  File \"C:\\Users\\abhis\\anaconda3\\lib\\site-packages\\pandas\\core\\dtypes\\cast.py\", line 1237, in astype_array\n",
      "    values = astype_nansafe(values, dtype, copy=copy)\n",
      "  File \"C:\\Users\\abhis\\anaconda3\\lib\\site-packages\\pandas\\core\\dtypes\\cast.py\", line 1154, in astype_nansafe\n",
      "    return lib.astype_intsafe(arr, dtype)\n",
      "  File \"pandas\\_libs\\lib.pyx\", line 668, in pandas._libs.lib.astype_intsafe\n",
      "OverflowError: Python int too large to convert to C long\n",
      "127.0.0.1 - - [19/Apr/2022 13:30:51] \"POST /predict HTTP/1.1\" 500 -\n",
      "127.0.0.1 - - [19/Apr/2022 13:30:57] \"OPTIONS /predict HTTP/1.1\" 200 -\n",
      "[2022-04-19 13:30:57,736] ERROR in app: Exception on /predict [POST]\n",
      "Traceback (most recent call last):\n",
      "  File \"C:\\Users\\abhis\\anaconda3\\lib\\site-packages\\flask\\app.py\", line 2447, in wsgi_app\n",
      "    response = self.full_dispatch_request()\n",
      "  File \"C:\\Users\\abhis\\anaconda3\\lib\\site-packages\\flask\\app.py\", line 1952, in full_dispatch_request\n",
      "    rv = self.handle_user_exception(e)\n",
      "  File \"C:\\Users\\abhis\\anaconda3\\lib\\site-packages\\flask_cors\\extension.py\", line 165, in wrapped_function\n",
      "    return cors_after_request(app.make_response(f(*args, **kwargs)))\n",
      "  File \"C:\\Users\\abhis\\anaconda3\\lib\\site-packages\\flask\\app.py\", line 1821, in handle_user_exception\n",
      "    reraise(exc_type, exc_value, tb)\n",
      "  File \"C:\\Users\\abhis\\anaconda3\\lib\\site-packages\\flask\\_compat.py\", line 39, in reraise\n",
      "    raise value\n",
      "  File \"C:\\Users\\abhis\\anaconda3\\lib\\site-packages\\flask\\app.py\", line 1950, in full_dispatch_request\n",
      "    rv = self.dispatch_request()\n",
      "  File \"C:\\Users\\abhis\\anaconda3\\lib\\site-packages\\flask\\app.py\", line 1936, in dispatch_request\n",
      "    return self.view_functions[rule.endpoint](**req.view_args)\n",
      "  File \"C:\\Users\\abhis\\AppData\\Local\\Temp/ipykernel_17248/1562411684.py\", line 119, in home\n",
      "    data['doc_id'] = data['doc_id'].astype(int)\n",
      "  File \"C:\\Users\\abhis\\anaconda3\\lib\\site-packages\\pandas\\core\\generic.py\", line 5920, in astype\n",
      "    new_data = self._mgr.astype(dtype=dtype, copy=copy, errors=errors)\n",
      "  File \"C:\\Users\\abhis\\anaconda3\\lib\\site-packages\\pandas\\core\\internals\\managers.py\", line 419, in astype\n",
      "    return self.apply(\"astype\", dtype=dtype, copy=copy, errors=errors)\n",
      "  File \"C:\\Users\\abhis\\anaconda3\\lib\\site-packages\\pandas\\core\\internals\\managers.py\", line 304, in apply\n",
      "    applied = getattr(b, f)(**kwargs)\n",
      "  File \"C:\\Users\\abhis\\anaconda3\\lib\\site-packages\\pandas\\core\\internals\\blocks.py\", line 580, in astype\n",
      "    new_values = astype_array_safe(values, dtype, copy=copy, errors=errors)\n",
      "  File \"C:\\Users\\abhis\\anaconda3\\lib\\site-packages\\pandas\\core\\dtypes\\cast.py\", line 1292, in astype_array_safe\n",
      "    new_values = astype_array(values, dtype, copy=copy)\n",
      "  File \"C:\\Users\\abhis\\anaconda3\\lib\\site-packages\\pandas\\core\\dtypes\\cast.py\", line 1237, in astype_array\n",
      "    values = astype_nansafe(values, dtype, copy=copy)\n",
      "  File \"C:\\Users\\abhis\\anaconda3\\lib\\site-packages\\pandas\\core\\dtypes\\cast.py\", line 1154, in astype_nansafe\n",
      "    return lib.astype_intsafe(arr, dtype)\n",
      "  File \"pandas\\_libs\\lib.pyx\", line 668, in pandas._libs.lib.astype_intsafe\n",
      "OverflowError: Python int too large to convert to C long\n",
      "127.0.0.1 - - [19/Apr/2022 13:30:57] \"POST /predict HTTP/1.1\" 500 -\n",
      "127.0.0.1 - - [19/Apr/2022 13:31:28] \"OPTIONS /predict HTTP/1.1\" 200 -\n",
      "C:\\Users\\abhis\\anaconda3\\lib\\site-packages\\xgboost\\data.py:262: FutureWarning: pandas.Int64Index is deprecated and will be removed from pandas in a future version. Use pandas.Index with the appropriate dtype instead.\n",
      "  elif isinstance(data.columns, (pd.Int64Index, pd.RangeIndex)):\n",
      "127.0.0.1 - - [19/Apr/2022 13:31:28] \"POST /predict HTTP/1.1\" 200 -\n"
     ]
    },
    {
     "name": "stdout",
     "output_type": "stream",
     "text": [
      "       doc_id Aging Bucket\n",
      "0  1930438491           <0\n"
     ]
    },
    {
     "name": "stderr",
     "output_type": "stream",
     "text": [
      "C:\\Users\\abhis\\anaconda3\\lib\\site-packages\\xgboost\\data.py:262: FutureWarning: pandas.Int64Index is deprecated and will be removed from pandas in a future version. Use pandas.Index with the appropriate dtype instead.\n",
      "  elif isinstance(data.columns, (pd.Int64Index, pd.RangeIndex)):\n",
      "127.0.0.1 - - [19/Apr/2022 13:31:29] \"POST /predict HTTP/1.1\" 200 -\n"
     ]
    },
    {
     "name": "stdout",
     "output_type": "stream",
     "text": [
      "       doc_id Aging Bucket\n",
      "0  1930438491           <0\n"
     ]
    },
    {
     "name": "stderr",
     "output_type": "stream",
     "text": [
      "127.0.0.1 - - [19/Apr/2022 15:21:56] \"OPTIONS /predict HTTP/1.1\" 200 -\n",
      "C:\\Users\\abhis\\anaconda3\\lib\\site-packages\\xgboost\\data.py:262: FutureWarning: pandas.Int64Index is deprecated and will be removed from pandas in a future version. Use pandas.Index with the appropriate dtype instead.\n",
      "  elif isinstance(data.columns, (pd.Int64Index, pd.RangeIndex)):\n",
      "127.0.0.1 - - [19/Apr/2022 15:21:56] \"POST /predict HTTP/1.1\" 200 -\n"
     ]
    },
    {
     "name": "stdout",
     "output_type": "stream",
     "text": [
      "       doc_id Aging Bucket\n",
      "0  1930438491           <0\n"
     ]
    },
    {
     "name": "stderr",
     "output_type": "stream",
     "text": [
      "C:\\Users\\abhis\\anaconda3\\lib\\site-packages\\xgboost\\data.py:262: FutureWarning: pandas.Int64Index is deprecated and will be removed from pandas in a future version. Use pandas.Index with the appropriate dtype instead.\n",
      "  elif isinstance(data.columns, (pd.Int64Index, pd.RangeIndex)):\n",
      "127.0.0.1 - - [19/Apr/2022 15:21:57] \"POST /predict HTTP/1.1\" 200 -\n"
     ]
    },
    {
     "name": "stdout",
     "output_type": "stream",
     "text": [
      "       doc_id Aging Bucket\n",
      "0  1930438491           <0\n"
     ]
    },
    {
     "name": "stderr",
     "output_type": "stream",
     "text": [
      "127.0.0.1 - - [20/Apr/2022 09:10:45] \"OPTIONS /predict HTTP/1.1\" 200 -\n",
      "C:\\Users\\abhis\\anaconda3\\lib\\site-packages\\xgboost\\data.py:262: FutureWarning: pandas.Int64Index is deprecated and will be removed from pandas in a future version. Use pandas.Index with the appropriate dtype instead.\n",
      "  elif isinstance(data.columns, (pd.Int64Index, pd.RangeIndex)):\n",
      "127.0.0.1 - - [20/Apr/2022 09:10:45] \"POST /predict HTTP/1.1\" 200 -\n"
     ]
    },
    {
     "name": "stdout",
     "output_type": "stream",
     "text": [
      "       doc_id Aging Bucket\n",
      "0  1929646410         0-15\n"
     ]
    },
    {
     "name": "stderr",
     "output_type": "stream",
     "text": [
      "127.0.0.1 - - [20/Apr/2022 09:10:53] \"OPTIONS /predict HTTP/1.1\" 200 -\n",
      "C:\\Users\\abhis\\anaconda3\\lib\\site-packages\\xgboost\\data.py:262: FutureWarning: pandas.Int64Index is deprecated and will be removed from pandas in a future version. Use pandas.Index with the appropriate dtype instead.\n",
      "  elif isinstance(data.columns, (pd.Int64Index, pd.RangeIndex)):\n",
      "127.0.0.1 - - [20/Apr/2022 09:10:53] \"POST /predict HTTP/1.1\" 200 -\n"
     ]
    },
    {
     "name": "stdout",
     "output_type": "stream",
     "text": [
      "       doc_id Aging Bucket\n",
      "0  1929646410         0-15\n"
     ]
    }
   ],
   "source": [
    "from flask import Flask, redirect, url_for, render_template, request,jsonify, make_response\n",
    "import New_Bucket\n",
    "import pandas as pd\n",
    "from flask_cors import CORS\n",
    "from sklearn.preprocessing import LabelEncoder\n",
    "import numpy as np\n",
    "\n",
    "data = pd.DataFrame()\n",
    "app = Flask(__name__)\n",
    "CORS(app)\n",
    "\n",
    "class EncoderExt(object):\n",
    "    def __init__(self):\n",
    "        self.label_encoder = LabelEncoder()\n",
    "    def fit(self, data_list):\n",
    "        self.label_encoder = self.label_encoder.fit(list(data_list) + ['Unknown'])\n",
    "        self.classes_ = self.label_encoder.classes_\n",
    "        return self\n",
    "    def transform(self, data_list):\n",
    "        new_data_list = list(data_list)\n",
    "        for unique_item in np.unique(data_list):\n",
    "            if unique_item not in self.label_encoder.classes_:\n",
    "                new_data_list = ['Unknown' if x==unique_item else x for x in new_data_list]\n",
    "        return self.label_encoder.transform(new_data_list)\n",
    "    \n",
    "def predict(data):\n",
    "    \n",
    "#     print(data)\n",
    "    # Clear Date\n",
    "    data['clear_date'] = pd.to_datetime(data['clear_date'], format = '%Y-%m-%d')\n",
    "    # Posting Date\n",
    "    data['posting_date'] = pd.to_datetime(data['posting_date'], format = '%Y-%m-%d')\n",
    "    # Due in Date\n",
    "    data['due_in_date'] = pd.to_datetime(data['due_in_date'], format = '%Y-%m-%d')\n",
    "    # Baseline Create Date\n",
    "    data['baseline_create_date'] = pd.to_datetime(data['baseline_create_date'], format = '%Y-%m-%d')\n",
    "    data['converted_usd'] = pd.to_numeric(data['converted_usd'])\n",
    "     # buisness_year\n",
    "    data['buisness_year'] = pd.to_datetime(data['buisness_year'], format = '%Y-%m-%d')\n",
    "    data['buisness_year'] = data['buisness_year'].dt.year\n",
    "    \n",
    "    from sklearn.preprocessing import LabelEncoder\n",
    "    business_codern = LabelEncoder()\n",
    "    business_codern.fit(data['business_code'])\n",
    "    data['business_code_enc'] = business_codern.transform(data['business_code'])\n",
    "    data['cust_number'] = data['cust_number'].replace('CCCA02',\"1\").replace(['CCU001','CCU013','CCU002'],\"2\").replace(['CC3411','CC6000'],\"3\").astype(int)\n",
    "    data['day_of_cleardate'] = data['clear_date'].dt.day\n",
    "    data['month_of_cleardate'] = data['clear_date'].dt.month\n",
    "    data['year_of_cleardate'] = data['clear_date'].dt.year\n",
    "\n",
    "    data['day_of_postingdate'] = data['posting_date'].dt.day\n",
    "    data['month_of_postingdate'] = data['posting_date'].dt.month\n",
    "    data['year_of_postingdate'] = data['posting_date'].dt.year\n",
    "\n",
    "    data['day_of_due'] = data['due_in_date'].dt.day\n",
    "    data['month_of_due'] = data['due_in_date'].dt.month\n",
    "    data['year_of_due'] = data['due_in_date'].dt.year\n",
    "\n",
    "    data['day_of_createdate'] = data['baseline_create_date'].dt.day\n",
    "    data['month_of_createdate'] = data['baseline_create_date'].dt.month\n",
    "    data['year_of_createdate'] = data['baseline_create_date'].dt.year\n",
    "    label_encoder = EncoderExt()\n",
    "    label_encoder1 = EncoderExt()\n",
    "    label_encoder1.fit(data['cust_payment_terms'])\n",
    "    label_encoder1.fit(data['business_code'])\n",
    "    label_encoder.fit(data['name_customer'])\n",
    "    data['cust_payment_terms_enc']=label_encoder1.transform(data['cust_payment_terms'])\n",
    "    data['business_code_enc']=label_encoder1.transform(data['business_code'])\n",
    "    data['name_customer_enc']=label_encoder.transform(data['name_customer'])\n",
    "    data.drop(['business_code',\"baseline_create_date\",\"due_in_date\",\"posting_date\",\"name_customer\",\"clear_date\",\"cust_payment_terms\"],axis=1,inplace=True)\n",
    "    data.drop(['day_of_cleardate',\"month_of_cleardate\",\"year_of_cleardate\"],axis=1,inplace=True)\n",
    "    data2=data[['cust_number', 'buisness_year', 'doc_id', 'converted_usd',\n",
    "           'business_code_enc', 'name_customer_enc', 'cust_payment_terms_enc',\n",
    "           'day_of_postingdate', 'month_of_postingdate', 'year_of_postingdate',\n",
    "           'day_of_createdate', 'month_of_createdate', 'year_of_createdate',\n",
    "           'day_of_due', 'month_of_due', 'year_of_due']]\n",
    "    import pickle\n",
    "    model = pickle.load(open(\"model.sav\", 'rb'))\n",
    "    final_result = model.predict(data2)\n",
    "    final_result = pd.Series(final_result,name='avg_delay')\n",
    "    data2.reset_index(drop=True,inplace=True)\n",
    "    Final = data2.merge(final_result , on = data.sl_no )\n",
    "    Final['avg_delay'] = Final.apply(lambda row: row.avg_delay//(24 * 3600), axis = 1)\n",
    "    bins= [-np.inf, 0, 15, 30, 45, 60, 100]\n",
    "    labels = ['<0','0-15','16-30','31-45','46-60','Greatar than 60']\n",
    "    Final['Aging Bucket'] = pd.cut(Final['avg_delay'], bins=bins, labels=labels, right=False)\n",
    "    Final.drop(['key_0',\"avg_delay\"],axis=1,inplace=True)\n",
    "    Final1=Final[['doc_id','Aging Bucket']].copy()\n",
    "    doc = Final1[\"doc_id\"].tolist()\n",
    "    aging= Final1[\"Aging Bucket\"].tolist()   \n",
    "    a=[]\n",
    "    for i in range(len(doc)):\n",
    "        a.append({\"doc_id\":doc[i],\"aging_bucket\": str(aging[i])})\n",
    "    \n",
    "\n",
    "    return a\n",
    "\n",
    "\n",
    "\n",
    "@app.route(\"/predict\",methods=[\"POST\", \"GET\"])\n",
    "def home():\n",
    "    if request.method == \"POST\":\n",
    "#         print(request.json)\n",
    "        content = request.get_json()\n",
    "        required_cols = [\"sl_no\", \"business_code\", \"cust_number\", \"name_customer\", \"clear_date\", \"buisness_year\", \"doc_id\", \"posting_date\", \"due_in_date\", \"baseline_create_date\", \"cust_payment_terms\", \"total_open_amount\"]\n",
    "        rows = []\n",
    "        \n",
    "        for row in content:\n",
    "            row_data = []\n",
    "            for key, value in row.items():\n",
    "                if key in required_cols:\n",
    "                    row_data.append(value)\n",
    "            rows.append(row_data)\n",
    "#         print(rows)            \n",
    "        data = pd.DataFrame(rows, columns=[\"sl_no\", \"business_code\", \"cust_number\", \"name_customer\", \"clear_date\", \"buisness_year\", \"doc_id\", \"posting_date\", \"due_in_date\", \"converted_usd\", \"baseline_create_date\", \"cust_payment_terms\"])\n",
    "        data.set_index('sl_no')\n",
    "        \n",
    "        data['doc_id'] = data['doc_id'].astype(int)\n",
    "#         data['converted_usd'] = data['converted_usd'].astype(float)\n",
    "#       print(data.info())\n",
    "#       print(data)\n",
    "#         print(predict(data))   \n",
    "        response = make_response(jsonify(predict(data)),200)\n",
    "        response.headers[\"Access-Control-Allow-Origin\"]=\"*\"\n",
    "        response.headers[\"Content-Type\"] = \"application/json\"\n",
    "        return response\n",
    "   \n",
    "        \n",
    "if __name__ == \"__main__\":\n",
    "    app.run()\n",
    "    \n",
    "\n"
   ]
  },
  {
   "cell_type": "code",
   "execution_count": null,
   "id": "ab2cd3ae",
   "metadata": {},
   "outputs": [],
   "source": []
  }
 ],
 "metadata": {
  "kernelspec": {
   "display_name": "Python 3 (ipykernel)",
   "language": "python",
   "name": "python3"
  },
  "language_info": {
   "codemirror_mode": {
    "name": "ipython",
    "version": 3
   },
   "file_extension": ".py",
   "mimetype": "text/x-python",
   "name": "python",
   "nbconvert_exporter": "python",
   "pygments_lexer": "ipython3",
   "version": "3.8.12"
  }
 },
 "nbformat": 4,
 "nbformat_minor": 5
}
